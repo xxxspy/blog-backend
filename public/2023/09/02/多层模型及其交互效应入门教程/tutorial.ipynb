{
 "cells": [
  {
   "cell_type": "markdown",
   "metadata": {},
   "source": [
    "本教程介绍了如何使用多层模型来分析嵌套数据，以及调节效应在跨层结构中的分析方法。\n",
    "我们的案例数据是日记数据（嵌套在个人中的重复事件），意思是每个人都会重复测量多次，但也适用于其他类型的嵌套数据。\n",
    "\n",
    "# 教程目标\n",
    "\n",
    "- 掌握嵌套数据的数据结构，并且如何构建这样的数据\n",
    "- 构建多层模型（multilevel model），有人也叫多水平回归、多水平模型，但是都属于混合效应模型（Mixed effect model）\n",
    "- 用多层模型分析个体间变量关系以及个体内部变量关系\n",
    "- 交互效应的可视化\n",
    "\n",
    "# 教程用到的库（请自行安装）"
   ]
  },
  {
   "cell_type": "code",
   "execution_count": 1,
   "metadata": {
    "vscode": {
     "languageId": "r"
    }
   },
   "outputs": [
    {
     "name": "stderr",
     "output_type": "stream",
     "text": [
      "Loading required package: Matrix\n",
      "\n",
      "\n",
      "Attaching package: 'lmerTest'\n",
      "\n",
      "\n",
      "The following object is masked from 'package:lme4':\n",
      "\n",
      "    lmer\n",
      "\n",
      "\n",
      "The following object is masked from 'package:stats':\n",
      "\n",
      "    step\n",
      "\n",
      "\n",
      "\n",
      "Attaching package: 'psych'\n",
      "\n",
      "\n",
      "The following objects are masked from 'package:ggplot2':\n",
      "\n",
      "    %+%, alpha\n",
      "\n",
      "\n",
      "Loading required package: carData\n",
      "\n",
      "lattice theme set by effectsTheme()\n",
      "See ?effectsTheme for details.\n",
      "\n"
     ]
    }
   ],
   "source": [
    "library(ggplot2)       # for 数据可视化\n",
    "library(lme4)          # for 混合效应模型（多层模型）的构建\n",
    "library(lmerTest)      # for 计算P值\n",
    "library(psych)         # for 描述统计\n",
    "library(plyr)          # for 数据整理\n",
    "library(effects)       # for 检验调节效应\n",
    "library(interactions)  # for 调节效应可视化"
   ]
  },
  {
   "cell_type": "markdown",
   "metadata": {},
   "source": [
    "# 数据介绍\n",
    "\n",
    "我们的数据来自于一个重复测量的调查研究，虽然我们没有找到关于数据的详细介绍，但是我们至少清楚我们用到的这几个变量是什么意义。\n",
    "数据包含两个文件\"daily-data.csv\"和\"person-data.csv\"， 这两个文件的意义就是文件名所揭示的， 第一个文件是重复测量的数据，\n",
    "被试的每天汇报的数据， 第二个文件是个体的特征数据，它只采集了一次。\n",
    "\n",
    "我们用到的变量:\n",
    "\n",
    "- negaff: 英文全称是 daily negative affect ， 来自于重复测量的数据， 是每天采集的消极情绪数据\n",
    "- stress: 变量pss的反向编码， 代表被试每天的压力， 是重复测量的数据\n",
    "- bfi_n： 这是大五人格量表中的神经质变量， 它是稳定的人格特征， 所以不是重复测量数据， 属于个体层面的变量\n",
    "\n",
    "下面我们加载两个数据，取出用到的变量："
   ]
  },
  {
   "cell_type": "code",
   "execution_count": 2,
   "metadata": {
    "vscode": {
     "languageId": "r"
    }
   },
   "outputs": [
    {
     "data": {
      "text/html": [
       "<table class=\"dataframe\">\n",
       "<caption>A data.frame: 6 × 2</caption>\n",
       "<thead>\n",
       "\t<tr><th></th><th scope=col>id</th><th scope=col>bfi_n</th></tr>\n",
       "\t<tr><th></th><th scope=col>&lt;int&gt;</th><th scope=col>&lt;dbl&gt;</th></tr>\n",
       "</thead>\n",
       "<tbody>\n",
       "\t<tr><th scope=row>1</th><td>101</td><td>2.0</td></tr>\n",
       "\t<tr><th scope=row>2</th><td>102</td><td>2.0</td></tr>\n",
       "\t<tr><th scope=row>3</th><td>103</td><td>2.5</td></tr>\n",
       "\t<tr><th scope=row>4</th><td>104</td><td>2.5</td></tr>\n",
       "\t<tr><th scope=row>5</th><td>105</td><td>3.5</td></tr>\n",
       "\t<tr><th scope=row>6</th><td>106</td><td>1.5</td></tr>\n",
       "</tbody>\n",
       "</table>\n"
      ],
      "text/latex": [
       "A data.frame: 6 × 2\n",
       "\\begin{tabular}{r|ll}\n",
       "  & id & bfi\\_n\\\\\n",
       "  & <int> & <dbl>\\\\\n",
       "\\hline\n",
       "\t1 & 101 & 2.0\\\\\n",
       "\t2 & 102 & 2.0\\\\\n",
       "\t3 & 103 & 2.5\\\\\n",
       "\t4 & 104 & 2.5\\\\\n",
       "\t5 & 105 & 3.5\\\\\n",
       "\t6 & 106 & 1.5\\\\\n",
       "\\end{tabular}\n"
      ],
      "text/markdown": [
       "\n",
       "A data.frame: 6 × 2\n",
       "\n",
       "| <!--/--> | id &lt;int&gt; | bfi_n &lt;dbl&gt; |\n",
       "|---|---|---|\n",
       "| 1 | 101 | 2.0 |\n",
       "| 2 | 102 | 2.0 |\n",
       "| 3 | 103 | 2.5 |\n",
       "| 4 | 104 | 2.5 |\n",
       "| 5 | 105 | 3.5 |\n",
       "| 6 | 106 | 1.5 |\n",
       "\n"
      ],
      "text/plain": [
       "  id  bfi_n\n",
       "1 101 2.0  \n",
       "2 102 2.0  \n",
       "3 103 2.5  \n",
       "4 104 2.5  \n",
       "5 105 3.5  \n",
       "6 106 1.5  "
      ]
     },
     "metadata": {},
     "output_type": "display_data"
    }
   ],
   "source": [
    "pdata = read.csv(\"person-data.csv\")\n",
    "ddata = read.csv(\"daily-data.csv\")\n",
    "pdata <- pdata[ ,c(\"id\",\"bfi_n\")]\n",
    "ddata <- ddata[ ,c(\"id\",\"day\",\"negaff\",\"pss\")]\n",
    "head(pdata)\n"
   ]
  },
  {
   "cell_type": "markdown",
   "metadata": {},
   "source": [
    "我们有必要介绍一下日测数据， 变量day记录的是第几日， 每一行数据不是被试样本， 是被试每天的数据，你可以看下面的数据，\n",
    "这种格式的数据叫做长格式， 用于存储重测数据的常用格式。"
   ]
  },
  {
   "cell_type": "code",
   "execution_count": 3,
   "metadata": {
    "vscode": {
     "languageId": "r"
    }
   },
   "outputs": [
    {
     "data": {
      "text/html": [
       "<table class=\"dataframe\">\n",
       "<caption>A data.frame: 6 × 4</caption>\n",
       "<thead>\n",
       "\t<tr><th></th><th scope=col>id</th><th scope=col>day</th><th scope=col>negaff</th><th scope=col>pss</th></tr>\n",
       "\t<tr><th></th><th scope=col>&lt;int&gt;</th><th scope=col>&lt;int&gt;</th><th scope=col>&lt;dbl&gt;</th><th scope=col>&lt;dbl&gt;</th></tr>\n",
       "</thead>\n",
       "<tbody>\n",
       "\t<tr><th scope=row>1</th><td>101</td><td>0</td><td>3.0</td><td>2.50</td></tr>\n",
       "\t<tr><th scope=row>2</th><td>101</td><td>1</td><td>2.3</td><td>2.75</td></tr>\n",
       "\t<tr><th scope=row>3</th><td>101</td><td>2</td><td>1.0</td><td>3.50</td></tr>\n",
       "\t<tr><th scope=row>4</th><td>101</td><td>3</td><td>1.3</td><td>3.00</td></tr>\n",
       "\t<tr><th scope=row>5</th><td>101</td><td>4</td><td>1.1</td><td>2.75</td></tr>\n",
       "\t<tr><th scope=row>6</th><td>101</td><td>5</td><td>1.0</td><td>2.75</td></tr>\n",
       "</tbody>\n",
       "</table>\n"
      ],
      "text/latex": [
       "A data.frame: 6 × 4\n",
       "\\begin{tabular}{r|llll}\n",
       "  & id & day & negaff & pss\\\\\n",
       "  & <int> & <int> & <dbl> & <dbl>\\\\\n",
       "\\hline\n",
       "\t1 & 101 & 0 & 3.0 & 2.50\\\\\n",
       "\t2 & 101 & 1 & 2.3 & 2.75\\\\\n",
       "\t3 & 101 & 2 & 1.0 & 3.50\\\\\n",
       "\t4 & 101 & 3 & 1.3 & 3.00\\\\\n",
       "\t5 & 101 & 4 & 1.1 & 2.75\\\\\n",
       "\t6 & 101 & 5 & 1.0 & 2.75\\\\\n",
       "\\end{tabular}\n"
      ],
      "text/markdown": [
       "\n",
       "A data.frame: 6 × 4\n",
       "\n",
       "| <!--/--> | id &lt;int&gt; | day &lt;int&gt; | negaff &lt;dbl&gt; | pss &lt;dbl&gt; |\n",
       "|---|---|---|---|---|\n",
       "| 1 | 101 | 0 | 3.0 | 2.50 |\n",
       "| 2 | 101 | 1 | 2.3 | 2.75 |\n",
       "| 3 | 101 | 2 | 1.0 | 3.50 |\n",
       "| 4 | 101 | 3 | 1.3 | 3.00 |\n",
       "| 5 | 101 | 4 | 1.1 | 2.75 |\n",
       "| 6 | 101 | 5 | 1.0 | 2.75 |\n",
       "\n"
      ],
      "text/plain": [
       "  id  day negaff pss \n",
       "1 101 0   3.0    2.50\n",
       "2 101 1   2.3    2.75\n",
       "3 101 2   1.0    3.50\n",
       "4 101 3   1.3    3.00\n",
       "5 101 4   1.1    2.75\n",
       "6 101 5   1.0    2.75"
      ]
     },
     "metadata": {},
     "output_type": "display_data"
    }
   ],
   "source": [
    "head(ddata)"
   ]
  },
  {
   "cell_type": "markdown",
   "metadata": {},
   "source": [
    "# 数据整理\n",
    "\n",
    "#### 感知压力的反向编码\n",
    "\n",
    "pss是感知压力， 但是数据中是分数越大压力越小， 所以我们反向编码一下，\n",
    "使得分数越大压力越大。 "
   ]
  },
  {
   "cell_type": "code",
   "execution_count": 4,
   "metadata": {
    "vscode": {
     "languageId": "r"
    }
   },
   "outputs": [
    {
     "data": {
      "text/html": [
       "<table class=\"dataframe\">\n",
       "<caption>A psych: 1 × 13</caption>\n",
       "<thead>\n",
       "\t<tr><th></th><th scope=col>vars</th><th scope=col>n</th><th scope=col>mean</th><th scope=col>sd</th><th scope=col>median</th><th scope=col>trimmed</th><th scope=col>mad</th><th scope=col>min</th><th scope=col>max</th><th scope=col>range</th><th scope=col>skew</th><th scope=col>kurtosis</th><th scope=col>se</th></tr>\n",
       "\t<tr><th></th><th scope=col>&lt;dbl&gt;</th><th scope=col>&lt;dbl&gt;</th><th scope=col>&lt;dbl&gt;</th><th scope=col>&lt;dbl&gt;</th><th scope=col>&lt;dbl&gt;</th><th scope=col>&lt;dbl&gt;</th><th scope=col>&lt;dbl&gt;</th><th scope=col>&lt;dbl&gt;</th><th scope=col>&lt;dbl&gt;</th><th scope=col>&lt;dbl&gt;</th><th scope=col>&lt;dbl&gt;</th><th scope=col>&lt;dbl&gt;</th><th scope=col>&lt;dbl&gt;</th></tr>\n",
       "</thead>\n",
       "<tbody>\n",
       "\t<tr><th scope=row>X1</th><td>1</td><td>1445</td><td>1.385525</td><td>0.6843377</td><td>1.25</td><td>1.36344</td><td>0.7413</td><td>0</td><td>4</td><td>4</td><td>0.3549276</td><td>0.1266323</td><td>0.01800266</td></tr>\n",
       "</tbody>\n",
       "</table>\n"
      ],
      "text/latex": [
       "A psych: 1 × 13\n",
       "\\begin{tabular}{r|lllllllllllll}\n",
       "  & vars & n & mean & sd & median & trimmed & mad & min & max & range & skew & kurtosis & se\\\\\n",
       "  & <dbl> & <dbl> & <dbl> & <dbl> & <dbl> & <dbl> & <dbl> & <dbl> & <dbl> & <dbl> & <dbl> & <dbl> & <dbl>\\\\\n",
       "\\hline\n",
       "\tX1 & 1 & 1445 & 1.385525 & 0.6843377 & 1.25 & 1.36344 & 0.7413 & 0 & 4 & 4 & 0.3549276 & 0.1266323 & 0.01800266\\\\\n",
       "\\end{tabular}\n"
      ],
      "text/markdown": [
       "\n",
       "A psych: 1 × 13\n",
       "\n",
       "| <!--/--> | vars &lt;dbl&gt; | n &lt;dbl&gt; | mean &lt;dbl&gt; | sd &lt;dbl&gt; | median &lt;dbl&gt; | trimmed &lt;dbl&gt; | mad &lt;dbl&gt; | min &lt;dbl&gt; | max &lt;dbl&gt; | range &lt;dbl&gt; | skew &lt;dbl&gt; | kurtosis &lt;dbl&gt; | se &lt;dbl&gt; |\n",
       "|---|---|---|---|---|---|---|---|---|---|---|---|---|---|\n",
       "| X1 | 1 | 1445 | 1.385525 | 0.6843377 | 1.25 | 1.36344 | 0.7413 | 0 | 4 | 4 | 0.3549276 | 0.1266323 | 0.01800266 |\n",
       "\n"
      ],
      "text/plain": [
       "   vars n    mean     sd        median trimmed mad    min max range skew     \n",
       "X1 1    1445 1.385525 0.6843377 1.25   1.36344 0.7413 0   4   4     0.3549276\n",
       "   kurtosis  se        \n",
       "X1 0.1266323 0.01800266"
      ]
     },
     "metadata": {},
     "output_type": "display_data"
    }
   ],
   "source": [
    "ddata$stress <- 4 - ddata$pss\n",
    "\n",
    "psych::describe(ddata$stress)"
   ]
  },
  {
   "cell_type": "markdown",
   "metadata": {},
   "source": [
    "所有的变量都建议检查一下它的分布，我们可以使用直方图来看一下："
   ]
  },
  {
   "cell_type": "code",
   "execution_count": 5,
   "metadata": {
    "vscode": {
     "languageId": "r"
    }
   },
   "outputs": [
    {
     "name": "stderr",
     "output_type": "stream",
     "text": [
      "Warning message:\n",
      "\"\u001b[1m\u001b[22mRemoved 13 rows containing non-finite values (`stat_bin()`).\"\n"
     ]
    },
    {
     "data": {
      "image/png": "[encoded data removed]",
      "text/plain": [
       "plot without title"
      ]
     },
     "metadata": {
      "image/png": {
       "height": 420,
       "width": 420
      }
     },
     "output_type": "display_data"
    }
   ],
   "source": [
    "ggplot(data=ddata, aes(x=stress)) +\n",
    "  geom_histogram(fill=\"white\", color=\"black\",bins=19) +\n",
    "  labs(x = \"压力\")"
   ]
  },
  {
   "cell_type": "markdown",
   "metadata": {},
   "source": [
    "#### 整理变量，划分为个体间和个体内变量\n",
    "\n",
    "现在我们分清楚个体间变量和个体内变量， 个体间变量就是不随时间变化的，同一个个体相同的值， 不同的个体不同的值，这些变量可以称为人的特质；\n",
    "个体内变量是随时间变化的， 同一个被试随着时间的变化量，这种变量可以称为状态， 因为状态是随时间变化的。\n",
    "\n",
    "我们先要要处理的是压力（stress）这个变量， 显然它是状态变量， 但是每个人的状态都是围绕的自己的均值变化的，\n",
    "所以我们可以从状态中计算个体均值， 代表他的特质， 所以新生成的变量 stress_trait 就是压力特质， 不随时间变化的变量。 我们可以这样计算这个变量："
   ]
  },
  {
   "cell_type": "code",
   "execution_count": 6,
   "metadata": {
    "vscode": {
     "languageId": "r"
    }
   },
   "outputs": [
    {
     "data": {
      "text/html": [
       "<table class=\"dataframe\">\n",
       "<caption>A data.frame: 6 × 3</caption>\n",
       "<thead>\n",
       "\t<tr><th></th><th scope=col>id</th><th scope=col>stress_trait</th><th scope=col>negaff_trait</th></tr>\n",
       "\t<tr><th></th><th scope=col>&lt;int&gt;</th><th scope=col>&lt;dbl&gt;</th><th scope=col>&lt;dbl&gt;</th></tr>\n",
       "</thead>\n",
       "<tbody>\n",
       "\t<tr><th scope=row>1</th><td>101</td><td>1.06250</td><td>1.500000</td></tr>\n",
       "\t<tr><th scope=row>2</th><td>102</td><td>0.78125</td><td>2.218750</td></tr>\n",
       "\t<tr><th scope=row>3</th><td>103</td><td>1.25000</td><td>2.416667</td></tr>\n",
       "\t<tr><th scope=row>4</th><td>104</td><td>1.81250</td><td>1.550000</td></tr>\n",
       "\t<tr><th scope=row>5</th><td>105</td><td>1.75000</td><td>2.612500</td></tr>\n",
       "\t<tr><th scope=row>6</th><td>106</td><td>1.12500</td><td>2.071875</td></tr>\n",
       "</tbody>\n",
       "</table>\n"
      ],
      "text/latex": [
       "A data.frame: 6 × 3\n",
       "\\begin{tabular}{r|lll}\n",
       "  & id & stress\\_trait & negaff\\_trait\\\\\n",
       "  & <int> & <dbl> & <dbl>\\\\\n",
       "\\hline\n",
       "\t1 & 101 & 1.06250 & 1.500000\\\\\n",
       "\t2 & 102 & 0.78125 & 2.218750\\\\\n",
       "\t3 & 103 & 1.25000 & 2.416667\\\\\n",
       "\t4 & 104 & 1.81250 & 1.550000\\\\\n",
       "\t5 & 105 & 1.75000 & 2.612500\\\\\n",
       "\t6 & 106 & 1.12500 & 2.071875\\\\\n",
       "\\end{tabular}\n"
      ],
      "text/markdown": [
       "\n",
       "A data.frame: 6 × 3\n",
       "\n",
       "| <!--/--> | id &lt;int&gt; | stress_trait &lt;dbl&gt; | negaff_trait &lt;dbl&gt; |\n",
       "|---|---|---|---|\n",
       "| 1 | 101 | 1.06250 | 1.500000 |\n",
       "| 2 | 102 | 0.78125 | 2.218750 |\n",
       "| 3 | 103 | 1.25000 | 2.416667 |\n",
       "| 4 | 104 | 1.81250 | 1.550000 |\n",
       "| 5 | 105 | 1.75000 | 2.612500 |\n",
       "| 6 | 106 | 1.12500 | 2.071875 |\n",
       "\n"
      ],
      "text/plain": [
       "  id  stress_trait negaff_trait\n",
       "1 101 1.06250      1.500000    \n",
       "2 102 0.78125      2.218750    \n",
       "3 103 1.25000      2.416667    \n",
       "4 104 1.81250      1.550000    \n",
       "5 105 1.75000      2.612500    \n",
       "6 106 1.12500      2.071875    "
      ]
     },
     "metadata": {},
     "output_type": "display_data"
    },
    {
     "data": {
      "text/html": [
       "<table class=\"dataframe\">\n",
       "<caption>A psych: 3 × 13</caption>\n",
       "<thead>\n",
       "\t<tr><th></th><th scope=col>vars</th><th scope=col>n</th><th scope=col>mean</th><th scope=col>sd</th><th scope=col>median</th><th scope=col>trimmed</th><th scope=col>mad</th><th scope=col>min</th><th scope=col>max</th><th scope=col>range</th><th scope=col>skew</th><th scope=col>kurtosis</th><th scope=col>se</th></tr>\n",
       "\t<tr><th></th><th scope=col>&lt;int&gt;</th><th scope=col>&lt;dbl&gt;</th><th scope=col>&lt;dbl&gt;</th><th scope=col>&lt;dbl&gt;</th><th scope=col>&lt;dbl&gt;</th><th scope=col>&lt;dbl&gt;</th><th scope=col>&lt;dbl&gt;</th><th scope=col>&lt;dbl&gt;</th><th scope=col>&lt;dbl&gt;</th><th scope=col>&lt;dbl&gt;</th><th scope=col>&lt;dbl&gt;</th><th scope=col>&lt;dbl&gt;</th><th scope=col>&lt;dbl&gt;</th></tr>\n",
       "</thead>\n",
       "<tbody>\n",
       "\t<tr><th scope=row>id</th><td>1</td><td>190</td><td>318.294737</td><td>130.4413245</td><td>321.50000</td><td>318.993421</td><td>151.2252000</td><td>101.0000</td><td>532.0000</td><td>431.000</td><td>-0.04393582</td><td>-1.0945398</td><td>9.46320829</td></tr>\n",
       "\t<tr><th scope=row>stress_trait</th><td>2</td><td>190</td><td>  1.395533</td><td>  0.4788391</td><td>  1.40625</td><td>  1.394792</td><td>  0.5096437</td><td>  0.1875</td><td>  2.5625</td><td>  2.375</td><td>-0.04026841</td><td>-0.2337593</td><td>0.03473864</td></tr>\n",
       "\t<tr><th scope=row>negaff_trait</th><td>3</td><td>190</td><td>  2.478309</td><td>  0.7335710</td><td>  2.41250</td><td>  2.429841</td><td>  0.7227675</td><td>  1.1125</td><td>  5.0875</td><td>  3.975</td><td> 0.67593800</td><td> 0.4505905</td><td>0.05321883</td></tr>\n",
       "</tbody>\n",
       "</table>\n"
      ],
      "text/latex": [
       "A psych: 3 × 13\n",
       "\\begin{tabular}{r|lllllllllllll}\n",
       "  & vars & n & mean & sd & median & trimmed & mad & min & max & range & skew & kurtosis & se\\\\\n",
       "  & <int> & <dbl> & <dbl> & <dbl> & <dbl> & <dbl> & <dbl> & <dbl> & <dbl> & <dbl> & <dbl> & <dbl> & <dbl>\\\\\n",
       "\\hline\n",
       "\tid & 1 & 190 & 318.294737 & 130.4413245 & 321.50000 & 318.993421 & 151.2252000 & 101.0000 & 532.0000 & 431.000 & -0.04393582 & -1.0945398 & 9.46320829\\\\\n",
       "\tstress\\_trait & 2 & 190 &   1.395533 &   0.4788391 &   1.40625 &   1.394792 &   0.5096437 &   0.1875 &   2.5625 &   2.375 & -0.04026841 & -0.2337593 & 0.03473864\\\\\n",
       "\tnegaff\\_trait & 3 & 190 &   2.478309 &   0.7335710 &   2.41250 &   2.429841 &   0.7227675 &   1.1125 &   5.0875 &   3.975 &  0.67593800 &  0.4505905 & 0.05321883\\\\\n",
       "\\end{tabular}\n"
      ],
      "text/markdown": [
       "\n",
       "A psych: 3 × 13\n",
       "\n",
       "| <!--/--> | vars &lt;int&gt; | n &lt;dbl&gt; | mean &lt;dbl&gt; | sd &lt;dbl&gt; | median &lt;dbl&gt; | trimmed &lt;dbl&gt; | mad &lt;dbl&gt; | min &lt;dbl&gt; | max &lt;dbl&gt; | range &lt;dbl&gt; | skew &lt;dbl&gt; | kurtosis &lt;dbl&gt; | se &lt;dbl&gt; |\n",
       "|---|---|---|---|---|---|---|---|---|---|---|---|---|---|\n",
       "| id | 1 | 190 | 318.294737 | 130.4413245 | 321.50000 | 318.993421 | 151.2252000 | 101.0000 | 532.0000 | 431.000 | -0.04393582 | -1.0945398 | 9.46320829 |\n",
       "| stress_trait | 2 | 190 |   1.395533 |   0.4788391 |   1.40625 |   1.394792 |   0.5096437 |   0.1875 |   2.5625 |   2.375 | -0.04026841 | -0.2337593 | 0.03473864 |\n",
       "| negaff_trait | 3 | 190 |   2.478309 |   0.7335710 |   2.41250 |   2.429841 |   0.7227675 |   1.1125 |   5.0875 |   3.975 |  0.67593800 |  0.4505905 | 0.05321883 |\n",
       "\n"
      ],
      "text/plain": [
       "             vars n   mean       sd          median    trimmed    mad        \n",
       "id           1    190 318.294737 130.4413245 321.50000 318.993421 151.2252000\n",
       "stress_trait 2    190   1.395533   0.4788391   1.40625   1.394792   0.5096437\n",
       "negaff_trait 3    190   2.478309   0.7335710   2.41250   2.429841   0.7227675\n",
       "             min      max      range   skew        kurtosis   se        \n",
       "id           101.0000 532.0000 431.000 -0.04393582 -1.0945398 9.46320829\n",
       "stress_trait   0.1875   2.5625   2.375 -0.04026841 -0.2337593 0.03473864\n",
       "negaff_trait   1.1125   5.0875   3.975  0.67593800  0.4505905 0.05321883"
      ]
     },
     "metadata": {},
     "output_type": "display_data"
    }
   ],
   "source": [
    "# 计算个体均值\n",
    "# negaff_trait虽然不是模型中的变量， 但是我们后期可能会用到它，所以也在这里一并计算了\n",
    "personmeans <- ddply(ddata, \"id\", summarize,\n",
    "                       stress_trait = mean(stress, na.rm=TRUE),\n",
    "                       negaff_trait = mean(negaff, na.rm=TRUE))\n",
    "head(personmeans)\n",
    "describe(personmeans)"
   ]
  },
  {
   "cell_type": "code",
   "execution_count": 7,
   "metadata": {
    "vscode": {
     "languageId": "r"
    }
   },
   "outputs": [
    {
     "data": {
      "text/html": [
       "<table class=\"dataframe\">\n",
       "<caption>A psych: 6 × 13</caption>\n",
       "<thead>\n",
       "\t<tr><th></th><th scope=col>vars</th><th scope=col>n</th><th scope=col>mean</th><th scope=col>sd</th><th scope=col>median</th><th scope=col>trimmed</th><th scope=col>mad</th><th scope=col>min</th><th scope=col>max</th><th scope=col>range</th><th scope=col>skew</th><th scope=col>kurtosis</th><th scope=col>se</th></tr>\n",
       "\t<tr><th></th><th scope=col>&lt;int&gt;</th><th scope=col>&lt;dbl&gt;</th><th scope=col>&lt;dbl&gt;</th><th scope=col>&lt;dbl&gt;</th><th scope=col>&lt;dbl&gt;</th><th scope=col>&lt;dbl&gt;</th><th scope=col>&lt;dbl&gt;</th><th scope=col>&lt;dbl&gt;</th><th scope=col>&lt;dbl&gt;</th><th scope=col>&lt;dbl&gt;</th><th scope=col>&lt;dbl&gt;</th><th scope=col>&lt;dbl&gt;</th><th scope=col>&lt;dbl&gt;</th></tr>\n",
       "</thead>\n",
       "<tbody>\n",
       "\t<tr><th scope=row>id</th><td>1</td><td>190</td><td>3.182947e+02</td><td>130.4413245</td><td>321.50000000</td><td> 3.189934e+02</td><td>151.2252000</td><td>101.000000</td><td>532.000000</td><td>431.000</td><td>-0.04393582</td><td>-1.0945398</td><td>9.46320829</td></tr>\n",
       "\t<tr><th scope=row>bfi_n</th><td>2</td><td>190</td><td>2.981579e+00</td><td>  0.9558661</td><td>  3.00000000</td><td> 2.996711e+00</td><td>  1.4826000</td><td>  1.000000</td><td>  5.000000</td><td>  4.000</td><td>-0.09238813</td><td>-0.8173050</td><td>0.06934582</td></tr>\n",
       "\t<tr><th scope=row>stress_trait</th><td>3</td><td>190</td><td>1.395533e+00</td><td>  0.4788391</td><td>  1.40625000</td><td> 1.394792e+00</td><td>  0.5096437</td><td>  0.187500</td><td>  2.562500</td><td>  2.375</td><td>-0.04026841</td><td>-0.2337593</td><td>0.03473864</td></tr>\n",
       "\t<tr><th scope=row>negaff_trait</th><td>4</td><td>190</td><td>2.478309e+00</td><td>  0.7335710</td><td>  2.41250000</td><td> 2.429841e+00</td><td>  0.7227675</td><td>  1.112500</td><td>  5.087500</td><td>  3.975</td><td> 0.67593800</td><td> 0.4505905</td><td>0.05321883</td></tr>\n",
       "\t<tr><th scope=row>bfi_n_c</th><td>5</td><td>190</td><td>1.683047e-16</td><td>  0.9558661</td><td>  0.01842105</td><td> 1.513158e-02</td><td>  1.4826000</td><td> -1.981579</td><td>  2.018421</td><td>  4.000</td><td>-0.09238813</td><td>-0.8173050</td><td>0.06934582</td></tr>\n",
       "\t<tr><th scope=row>stress_trait_c</th><td>6</td><td>190</td><td>1.927149e-17</td><td>  0.4788391</td><td>  0.01071742</td><td>-7.409148e-04</td><td>  0.5096437</td><td> -1.208033</td><td>  1.166967</td><td>  2.375</td><td>-0.04026841</td><td>-0.2337593</td><td>0.03473864</td></tr>\n",
       "</tbody>\n",
       "</table>\n"
      ],
      "text/latex": [
       "A psych: 6 × 13\n",
       "\\begin{tabular}{r|lllllllllllll}\n",
       "  & vars & n & mean & sd & median & trimmed & mad & min & max & range & skew & kurtosis & se\\\\\n",
       "  & <int> & <dbl> & <dbl> & <dbl> & <dbl> & <dbl> & <dbl> & <dbl> & <dbl> & <dbl> & <dbl> & <dbl> & <dbl>\\\\\n",
       "\\hline\n",
       "\tid & 1 & 190 & 3.182947e+02 & 130.4413245 & 321.50000000 &  3.189934e+02 & 151.2252000 & 101.000000 & 532.000000 & 431.000 & -0.04393582 & -1.0945398 & 9.46320829\\\\\n",
       "\tbfi\\_n & 2 & 190 & 2.981579e+00 &   0.9558661 &   3.00000000 &  2.996711e+00 &   1.4826000 &   1.000000 &   5.000000 &   4.000 & -0.09238813 & -0.8173050 & 0.06934582\\\\\n",
       "\tstress\\_trait & 3 & 190 & 1.395533e+00 &   0.4788391 &   1.40625000 &  1.394792e+00 &   0.5096437 &   0.187500 &   2.562500 &   2.375 & -0.04026841 & -0.2337593 & 0.03473864\\\\\n",
       "\tnegaff\\_trait & 4 & 190 & 2.478309e+00 &   0.7335710 &   2.41250000 &  2.429841e+00 &   0.7227675 &   1.112500 &   5.087500 &   3.975 &  0.67593800 &  0.4505905 & 0.05321883\\\\\n",
       "\tbfi\\_n\\_c & 5 & 190 & 1.683047e-16 &   0.9558661 &   0.01842105 &  1.513158e-02 &   1.4826000 &  -1.981579 &   2.018421 &   4.000 & -0.09238813 & -0.8173050 & 0.06934582\\\\\n",
       "\tstress\\_trait\\_c & 6 & 190 & 1.927149e-17 &   0.4788391 &   0.01071742 & -7.409148e-04 &   0.5096437 &  -1.208033 &   1.166967 &   2.375 & -0.04026841 & -0.2337593 & 0.03473864\\\\\n",
       "\\end{tabular}\n"
      ],
      "text/markdown": [
       "\n",
       "A psych: 6 × 13\n",
       "\n",
       "| <!--/--> | vars &lt;int&gt; | n &lt;dbl&gt; | mean &lt;dbl&gt; | sd &lt;dbl&gt; | median &lt;dbl&gt; | trimmed &lt;dbl&gt; | mad &lt;dbl&gt; | min &lt;dbl&gt; | max &lt;dbl&gt; | range &lt;dbl&gt; | skew &lt;dbl&gt; | kurtosis &lt;dbl&gt; | se &lt;dbl&gt; |\n",
       "|---|---|---|---|---|---|---|---|---|---|---|---|---|---|\n",
       "| id | 1 | 190 | 3.182947e+02 | 130.4413245 | 321.50000000 |  3.189934e+02 | 151.2252000 | 101.000000 | 532.000000 | 431.000 | -0.04393582 | -1.0945398 | 9.46320829 |\n",
       "| bfi_n | 2 | 190 | 2.981579e+00 |   0.9558661 |   3.00000000 |  2.996711e+00 |   1.4826000 |   1.000000 |   5.000000 |   4.000 | -0.09238813 | -0.8173050 | 0.06934582 |\n",
       "| stress_trait | 3 | 190 | 1.395533e+00 |   0.4788391 |   1.40625000 |  1.394792e+00 |   0.5096437 |   0.187500 |   2.562500 |   2.375 | -0.04026841 | -0.2337593 | 0.03473864 |\n",
       "| negaff_trait | 4 | 190 | 2.478309e+00 |   0.7335710 |   2.41250000 |  2.429841e+00 |   0.7227675 |   1.112500 |   5.087500 |   3.975 |  0.67593800 |  0.4505905 | 0.05321883 |\n",
       "| bfi_n_c | 5 | 190 | 1.683047e-16 |   0.9558661 |   0.01842105 |  1.513158e-02 |   1.4826000 |  -1.981579 |   2.018421 |   4.000 | -0.09238813 | -0.8173050 | 0.06934582 |\n",
       "| stress_trait_c | 6 | 190 | 1.927149e-17 |   0.4788391 |   0.01071742 | -7.409148e-04 |   0.5096437 |  -1.208033 |   1.166967 |   2.375 | -0.04026841 | -0.2337593 | 0.03473864 |\n",
       "\n"
      ],
      "text/plain": [
       "               vars n   mean         sd          median       trimmed      \n",
       "id             1    190 3.182947e+02 130.4413245 321.50000000  3.189934e+02\n",
       "bfi_n          2    190 2.981579e+00   0.9558661   3.00000000  2.996711e+00\n",
       "stress_trait   3    190 1.395533e+00   0.4788391   1.40625000  1.394792e+00\n",
       "negaff_trait   4    190 2.478309e+00   0.7335710   2.41250000  2.429841e+00\n",
       "bfi_n_c        5    190 1.683047e-16   0.9558661   0.01842105  1.513158e-02\n",
       "stress_trait_c 6    190 1.927149e-17   0.4788391   0.01071742 -7.409148e-04\n",
       "               mad         min        max        range   skew        kurtosis  \n",
       "id             151.2252000 101.000000 532.000000 431.000 -0.04393582 -1.0945398\n",
       "bfi_n            1.4826000   1.000000   5.000000   4.000 -0.09238813 -0.8173050\n",
       "stress_trait     0.5096437   0.187500   2.562500   2.375 -0.04026841 -0.2337593\n",
       "negaff_trait     0.7227675   1.112500   5.087500   3.975  0.67593800  0.4505905\n",
       "bfi_n_c          1.4826000  -1.981579   2.018421   4.000 -0.09238813 -0.8173050\n",
       "stress_trait_c   0.5096437  -1.208033   1.166967   2.375 -0.04026841 -0.2337593\n",
       "               se        \n",
       "id             9.46320829\n",
       "bfi_n          0.06934582\n",
       "stress_trait   0.03473864\n",
       "negaff_trait   0.05321883\n",
       "bfi_n_c        0.06934582\n",
       "stress_trait_c 0.03473864"
      ]
     },
     "metadata": {},
     "output_type": "display_data"
    }
   ],
   "source": [
    "# 将新生成的个体特质变量合并到pdata数据框, pdata 是被试样本\n",
    "pdata <- merge(pdata, personmeans, by=\"id\")                                              \n",
    "# 后面我们会分析调节效应， 对变量中心化是必然的步骤，这一步就是变量中心化\n",
    "pdata$bfi_n_c <- scale(pdata$bfi_n,center=TRUE,scale=FALSE)\n",
    "pdata$stress_trait_c <- scale(pdata$stress_trait,center=TRUE,scale=FALSE)\n",
    "# 个体数据的描述性统计\n",
    "describe(pdata)"
   ]
  },
  {
   "cell_type": "markdown",
   "metadata": {},
   "source": [
    "将个体数据合并到重复测量的日测数据"
   ]
  },
  {
   "cell_type": "code",
   "execution_count": 8,
   "metadata": {
    "vscode": {
     "languageId": "r"
    }
   },
   "outputs": [
    {
     "data": {
      "text/html": [
       "<table class=\"dataframe\">\n",
       "<caption>A data.frame: 6 × 12</caption>\n",
       "<thead>\n",
       "\t<tr><th></th><th scope=col>id</th><th scope=col>day</th><th scope=col>negaff</th><th scope=col>pss</th><th scope=col>stress</th><th scope=col>bfi_n</th><th scope=col>stress_trait</th><th scope=col>negaff_trait</th><th scope=col>bfi_n_c</th><th scope=col>stress_trait_c</th><th scope=col>stress_state</th><th scope=col>negaff_state</th></tr>\n",
       "\t<tr><th></th><th scope=col>&lt;int&gt;</th><th scope=col>&lt;int&gt;</th><th scope=col>&lt;dbl&gt;</th><th scope=col>&lt;dbl&gt;</th><th scope=col>&lt;dbl&gt;</th><th scope=col>&lt;dbl&gt;</th><th scope=col>&lt;dbl&gt;</th><th scope=col>&lt;dbl&gt;</th><th scope=col>&lt;dbl[,1]&gt;</th><th scope=col>&lt;dbl[,1]&gt;</th><th scope=col>&lt;dbl&gt;</th><th scope=col>&lt;dbl&gt;</th></tr>\n",
       "</thead>\n",
       "<tbody>\n",
       "\t<tr><th scope=row>1</th><td>101</td><td>0</td><td>3.0</td><td>2.50</td><td>1.50</td><td>2</td><td>1.0625</td><td>1.5</td><td>-0.9815789</td><td>-0.3330326</td><td> 0.4375</td><td> 1.5</td></tr>\n",
       "\t<tr><th scope=row>2</th><td>101</td><td>1</td><td>2.3</td><td>2.75</td><td>1.25</td><td>2</td><td>1.0625</td><td>1.5</td><td>-0.9815789</td><td>-0.3330326</td><td> 0.1875</td><td> 0.8</td></tr>\n",
       "\t<tr><th scope=row>3</th><td>101</td><td>2</td><td>1.0</td><td>3.50</td><td>0.50</td><td>2</td><td>1.0625</td><td>1.5</td><td>-0.9815789</td><td>-0.3330326</td><td>-0.5625</td><td>-0.5</td></tr>\n",
       "\t<tr><th scope=row>4</th><td>101</td><td>3</td><td>1.3</td><td>3.00</td><td>1.00</td><td>2</td><td>1.0625</td><td>1.5</td><td>-0.9815789</td><td>-0.3330326</td><td>-0.0625</td><td>-0.2</td></tr>\n",
       "\t<tr><th scope=row>5</th><td>101</td><td>4</td><td>1.1</td><td>2.75</td><td>1.25</td><td>2</td><td>1.0625</td><td>1.5</td><td>-0.9815789</td><td>-0.3330326</td><td> 0.1875</td><td>-0.4</td></tr>\n",
       "\t<tr><th scope=row>6</th><td>101</td><td>5</td><td>1.0</td><td>2.75</td><td>1.25</td><td>2</td><td>1.0625</td><td>1.5</td><td>-0.9815789</td><td>-0.3330326</td><td> 0.1875</td><td>-0.5</td></tr>\n",
       "</tbody>\n",
       "</table>\n"
      ],
      "text/latex": [
       "A data.frame: 6 × 12\n",
       "\\begin{tabular}{r|llllllllllll}\n",
       "  & id & day & negaff & pss & stress & bfi\\_n & stress\\_trait & negaff\\_trait & bfi\\_n\\_c & stress\\_trait\\_c & stress\\_state & negaff\\_state\\\\\n",
       "  & <int> & <int> & <dbl> & <dbl> & <dbl> & <dbl> & <dbl> & <dbl> & <dbl{[},1{]}> & <dbl{[},1{]}> & <dbl> & <dbl>\\\\\n",
       "\\hline\n",
       "\t1 & 101 & 0 & 3.0 & 2.50 & 1.50 & 2 & 1.0625 & 1.5 & -0.9815789 & -0.3330326 &  0.4375 &  1.5\\\\\n",
       "\t2 & 101 & 1 & 2.3 & 2.75 & 1.25 & 2 & 1.0625 & 1.5 & -0.9815789 & -0.3330326 &  0.1875 &  0.8\\\\\n",
       "\t3 & 101 & 2 & 1.0 & 3.50 & 0.50 & 2 & 1.0625 & 1.5 & -0.9815789 & -0.3330326 & -0.5625 & -0.5\\\\\n",
       "\t4 & 101 & 3 & 1.3 & 3.00 & 1.00 & 2 & 1.0625 & 1.5 & -0.9815789 & -0.3330326 & -0.0625 & -0.2\\\\\n",
       "\t5 & 101 & 4 & 1.1 & 2.75 & 1.25 & 2 & 1.0625 & 1.5 & -0.9815789 & -0.3330326 &  0.1875 & -0.4\\\\\n",
       "\t6 & 101 & 5 & 1.0 & 2.75 & 1.25 & 2 & 1.0625 & 1.5 & -0.9815789 & -0.3330326 &  0.1875 & -0.5\\\\\n",
       "\\end{tabular}\n"
      ],
      "text/markdown": [
       "\n",
       "A data.frame: 6 × 12\n",
       "\n",
       "| <!--/--> | id &lt;int&gt; | day &lt;int&gt; | negaff &lt;dbl&gt; | pss &lt;dbl&gt; | stress &lt;dbl&gt; | bfi_n &lt;dbl&gt; | stress_trait &lt;dbl&gt; | negaff_trait &lt;dbl&gt; | bfi_n_c &lt;dbl[,1]&gt; | stress_trait_c &lt;dbl[,1]&gt; | stress_state &lt;dbl&gt; | negaff_state &lt;dbl&gt; |\n",
       "|---|---|---|---|---|---|---|---|---|---|---|---|---|\n",
       "| 1 | 101 | 0 | 3.0 | 2.50 | 1.50 | 2 | 1.0625 | 1.5 | -0.9815789 | -0.3330326 |  0.4375 |  1.5 |\n",
       "| 2 | 101 | 1 | 2.3 | 2.75 | 1.25 | 2 | 1.0625 | 1.5 | -0.9815789 | -0.3330326 |  0.1875 |  0.8 |\n",
       "| 3 | 101 | 2 | 1.0 | 3.50 | 0.50 | 2 | 1.0625 | 1.5 | -0.9815789 | -0.3330326 | -0.5625 | -0.5 |\n",
       "| 4 | 101 | 3 | 1.3 | 3.00 | 1.00 | 2 | 1.0625 | 1.5 | -0.9815789 | -0.3330326 | -0.0625 | -0.2 |\n",
       "| 5 | 101 | 4 | 1.1 | 2.75 | 1.25 | 2 | 1.0625 | 1.5 | -0.9815789 | -0.3330326 |  0.1875 | -0.4 |\n",
       "| 6 | 101 | 5 | 1.0 | 2.75 | 1.25 | 2 | 1.0625 | 1.5 | -0.9815789 | -0.3330326 |  0.1875 | -0.5 |\n",
       "\n"
      ],
      "text/plain": [
       "  id  day negaff pss  stress bfi_n stress_trait negaff_trait bfi_n_c   \n",
       "1 101 0   3.0    2.50 1.50   2     1.0625       1.5          -0.9815789\n",
       "2 101 1   2.3    2.75 1.25   2     1.0625       1.5          -0.9815789\n",
       "3 101 2   1.0    3.50 0.50   2     1.0625       1.5          -0.9815789\n",
       "4 101 3   1.3    3.00 1.00   2     1.0625       1.5          -0.9815789\n",
       "5 101 4   1.1    2.75 1.25   2     1.0625       1.5          -0.9815789\n",
       "6 101 5   1.0    2.75 1.25   2     1.0625       1.5          -0.9815789\n",
       "  stress_trait_c stress_state negaff_state\n",
       "1 -0.3330326      0.4375       1.5        \n",
       "2 -0.3330326      0.1875       0.8        \n",
       "3 -0.3330326     -0.5625      -0.5        \n",
       "4 -0.3330326     -0.0625      -0.2        \n",
       "5 -0.3330326      0.1875      -0.4        \n",
       "6 -0.3330326      0.1875      -0.5        "
      ]
     },
     "metadata": {},
     "output_type": "display_data"
    }
   ],
   "source": [
    "\n",
    "ddata_long <- merge(ddata,pdata,by=\"id\")\n",
    "\n",
    "# 计算状态变量，即减去个体均值\n",
    "ddata_long$stress_state <- ddata_long$stress - ddata_long$stress_trait\n",
    "ddata_long$negaff_state <- ddata_long$negaff - ddata_long$negaff_trait\n",
    "\n",
    "# 查看数据\n",
    "head(ddata_long)"
   ]
  },
  {
   "cell_type": "code",
   "execution_count": null,
   "metadata": {
    "vscode": {
     "languageId": "r"
    }
   },
   "outputs": [],
   "source": []
  },
  {
   "cell_type": "markdown",
   "metadata": {},
   "source": [
    "我们取出前25个被试的数据，通过绘制每个被试的日次数据， 我们可以大概了解到被试之间的差异有多大，\n",
    "比如看下面的图， 每个被试的拟合回归线的斜率都有很大差异， 着预示着压力和消极情绪的关系是因人而异的。"
   ]
  },
  {
   "cell_type": "code",
   "execution_count": 9,
   "metadata": {
    "vscode": {
     "languageId": "r"
    }
   },
   "outputs": [
    {
     "name": "stderr",
     "output_type": "stream",
     "text": [
      "\u001b[1m\u001b[22m`geom_smooth()` using formula = 'y ~ x'\n",
      "Warning message:\n",
      "\"\u001b[1m\u001b[22mRemoved 4 rows containing non-finite values (`stat_smooth()`).\"\n",
      "Warning message:\n",
      "\"\u001b[1m\u001b[22mRemoved 4 rows containing missing values (`geom_point()`).\"\n"
     ]
    },
    {
     "data": {
      "image/png": "[encoded data removed]",
      "text/plain": [
       "plot without title"
      ]
     },
     "metadata": {
      "image/png": {
       "height": 420,
       "width": 420
      }
     },
     "output_type": "display_data"
    }
   ],
   "source": [
    "#faceted plot\n",
    "ggplot(data=ddata_long[which(ddata_long$id <= 125),], aes(x=stress_state,y=negaff)) +\n",
    "  geom_point() +\n",
    "  stat_smooth(method=\"lm\", fullrange=TRUE) +\n",
    "  xlab(\"Stress State\") + ylab(\"Negative Affect (Continuous)\") + \n",
    "  facet_wrap( ~ id) +\n",
    "  theme(axis.title=element_text(size=16),\n",
    "        axis.text=element_text(size=14),\n",
    "        strip.text=element_text(size=14))"
   ]
  },
  {
   "cell_type": "markdown",
   "metadata": {},
   "source": [
    "# 混合效应模型\n",
    "\n",
    "\n",
    "我们使用 \"lme4\" 包来拟合混合效应模型，以及一些辅助的R包： \"lmerTest\" 提供了用于获取 参数检验的 p-vlaues 的工具；\n",
    "\"effects\"包提供了用于计算和绘制基于模型的预测的工具；\"interactions\" 提供了绘制和探测交互效应的工具。\n",
    "\n",
    "lme4 提供了函数 lmer ， 它用于拟合多层数据模型，或者是混合效应模型。 它的第一个参数是data， 输入你的原始数据，\n",
    "na.action 参数用于指定对缺失值的处理方法。\n",
    "\n",
    "## 零模型\n",
    "\n",
    "模型里面没有自变量， 或者没有我们关心的变量， 所以这种模型叫0模型。\n",
    "零模型可以被称为   unconditional means model ， 它用于考察因变量的方差有多少来自被试内， 有多少来自被试间。"
   ]
  },
  {
   "cell_type": "code",
   "execution_count": 10,
   "metadata": {
    "vscode": {
     "languageId": "r"
    }
   },
   "outputs": [
    {
     "data": {
      "text/plain": [
       "Linear mixed model fit by REML. t-tests use Satterthwaite's method [\n",
       "lmerModLmerTest]\n",
       "Formula: negaff ~ 1 + (1 | id)\n",
       "   Data: ddata_long\n",
       "\n",
       "REML criterion at convergence: 3833.5\n",
       "\n",
       "Scaled residuals: \n",
       "    Min      1Q  Median      3Q     Max \n",
       "-3.8739 -0.6123 -0.1608  0.4658  3.9394 \n",
       "\n",
       "Random effects:\n",
       " Groups   Name        Variance Std.Dev.\n",
       " id       (Intercept) 0.4270   0.6535  \n",
       " Residual             0.6627   0.8141  \n",
       "Number of obs: 1441, groups:  id, 190\n",
       "\n",
       "Fixed effects:\n",
       "             Estimate Std. Error        df t value Pr(>|t|)    \n",
       "(Intercept)   2.46368    0.05229 185.80793   47.12   <2e-16 ***\n",
       "---\n",
       "Signif. codes:  0 '***' 0.001 '**' 0.01 '*' 0.05 '.' 0.1 ' ' 1"
      ]
     },
     "metadata": {},
     "output_type": "display_data"
    }
   ],
   "source": [
    "#unconditional means model\n",
    "model0_fit <- lmer(formula = negaff ~ 1 + (1|id), \n",
    "              data=ddata_long,\n",
    "              na.action=na.exclude)\n",
    "summary(model0_fit)"
   ]
  },
  {
   "cell_type": "code",
   "execution_count": 11,
   "metadata": {
    "vscode": {
     "languageId": "r"
    }
   },
   "outputs": [
    {
     "data": {
      "text/plain": [
       " Groups   Name        Std.Dev.\n",
       " id       (Intercept) 0.65347 \n",
       " Residual             0.81408 "
      ]
     },
     "metadata": {},
     "output_type": "display_data"
    }
   ],
   "source": [
    "\n",
    "# 我们使用 VarCorr 函数提取方差 ， id这一行对应的是被试内方差， Residual对应的是残差方差（不可以被被试差异所解释的方差\n",
    "VarCorr(model0_fit)"
   ]
  },
  {
   "cell_type": "markdown",
   "metadata": {},
   "source": [
    "我们来计算组间相关性（ICC）， 它指的是被试内方差占总方差的比率， 如公式：\n",
    "\n",
    "$ ICC_{between} = \\frac{\\sigma^{2}_{u0}}{\\sigma^{2}_{u0} + \\sigma^{2}_{e}} $"
   ]
  },
  {
   "cell_type": "markdown",
   "metadata": {},
   "source": [
    "我们首先取药提取得到随机效应的方差， 我们将结果保存到数据框中， 方便提取数据， 毕竟数据框是我们在R中最熟悉的数据给格式。"
   ]
  },
  {
   "cell_type": "code",
   "execution_count": 12,
   "metadata": {
    "vscode": {
     "languageId": "r"
    }
   },
   "outputs": [
    {
     "data": {
      "text/html": [
       "<table class=\"dataframe\">\n",
       "<caption>A data.frame: 2 × 5</caption>\n",
       "<thead>\n",
       "\t<tr><th scope=col>grp</th><th scope=col>var1</th><th scope=col>var2</th><th scope=col>vcov</th><th scope=col>sdcor</th></tr>\n",
       "\t<tr><th scope=col>&lt;chr&gt;</th><th scope=col>&lt;chr&gt;</th><th scope=col>&lt;chr&gt;</th><th scope=col>&lt;dbl&gt;</th><th scope=col>&lt;dbl&gt;</th></tr>\n",
       "</thead>\n",
       "<tbody>\n",
       "\t<tr><td>id      </td><td>(Intercept)</td><td>NA</td><td>0.4270294</td><td>0.6534749</td></tr>\n",
       "\t<tr><td>Residual</td><td>NA         </td><td>NA</td><td>0.6627260</td><td>0.8140798</td></tr>\n",
       "</tbody>\n",
       "</table>\n"
      ],
      "text/latex": [
       "A data.frame: 2 × 5\n",
       "\\begin{tabular}{lllll}\n",
       " grp & var1 & var2 & vcov & sdcor\\\\\n",
       " <chr> & <chr> & <chr> & <dbl> & <dbl>\\\\\n",
       "\\hline\n",
       "\t id       & (Intercept) & NA & 0.4270294 & 0.6534749\\\\\n",
       "\t Residual & NA          & NA & 0.6627260 & 0.8140798\\\\\n",
       "\\end{tabular}\n"
      ],
      "text/markdown": [
       "\n",
       "A data.frame: 2 × 5\n",
       "\n",
       "| grp &lt;chr&gt; | var1 &lt;chr&gt; | var2 &lt;chr&gt; | vcov &lt;dbl&gt; | sdcor &lt;dbl&gt; |\n",
       "|---|---|---|---|---|\n",
       "| id       | (Intercept) | NA | 0.4270294 | 0.6534749 |\n",
       "| Residual | NA          | NA | 0.6627260 | 0.8140798 |\n",
       "\n"
      ],
      "text/plain": [
       "  grp      var1        var2 vcov      sdcor    \n",
       "1 id       (Intercept) NA   0.4270294 0.6534749\n",
       "2 Residual NA          NA   0.6627260 0.8140798"
      ]
     },
     "metadata": {},
     "output_type": "display_data"
    }
   ],
   "source": [
    "randEffs <- as.data.frame(VarCorr(model0_fit))\n",
    "randEffs"
   ]
  },
  {
   "cell_type": "markdown",
   "metadata": {},
   "source": [
    "根据上面的公式， 可以计算得到ICC："
   ]
  },
  {
   "cell_type": "code",
   "execution_count": 13,
   "metadata": {
    "vscode": {
     "languageId": "r"
    }
   },
   "outputs": [
    {
     "data": {
      "text/html": [
       "0.391858025596418"
      ],
      "text/latex": [
       "0.391858025596418"
      ],
      "text/markdown": [
       "0.391858025596418"
      ],
      "text/plain": [
       "[1] 0.391858"
      ]
     },
     "metadata": {},
     "output_type": "display_data"
    }
   ],
   "source": [
    "u0v = randEffs[1,4]\n",
    "ev = randEffs[2,4]\n",
    "\n",
    "icc <- u0v / (u0v+ev)\n",
    "icc"
   ]
  },
  {
   "cell_type": "markdown",
   "metadata": {},
   "source": [
    "根据无条件均值模型计算ICC，结果表明，在负面情绪的总方差中，39.19%归因于人与人之间的差异，60.81%归因于人内差异。\n",
    "这意味着使用随时间变化的变量作为预测变量时， 存在很大一部分人内方差， 着意味着我们构建多层模型、混合效应模型是非常有必要的。\n",
    "专家建议ICC超过0.05（5%）时就应该考虑使用混合效应模型。"
   ]
  },
  {
   "cell_type": "markdown",
   "metadata": {},
   "source": [
    "## 混合效应模型的构建\n",
    "\n",
    "我们在模型里纳入了很多自变量， 我们一一解释：\n",
    "\n",
    "- 1 : 这是常数项\n",
    "- day ： 我们的因变量时随时间变化的， 所以纳入了时间day\n",
    "- stress_trait_c ： 这是压力特质变量， 其实是被试每天的压力的平均值来代表它的压力特质， 而 stress_trait_c 是压力特质中心化的变量， 为什么要做中心化？ 因为我们需要把它作为调节变量\n",
    "- stress_state ： 这个变量也是经过处理的， 是每日的压力值减去了被试均值， 意思是这个变量是经过了被试内的中心化， 所以这个变量代表了被试压力偏离他的均值的多少\n",
    "- stress_state:stress_trait_c ： 调节项， stress_state对消极情绪的影响大小可能受到stress_trait_c的影响\n",
    "- (1 + stress_state|id) ： 这是混合效应模型中定义随机效应的方法， 这种写法含义是 模型的截距和stress_state的效应都随id的不同而不同， id是被试id"
   ]
  },
  {
   "cell_type": "code",
   "execution_count": 15,
   "metadata": {
    "vscode": {
     "languageId": "r"
    }
   },
   "outputs": [
    {
     "data": {
      "text/plain": [
       "Linear mixed model fit by REML. t-tests use Satterthwaite's method [\n",
       "lmerModLmerTest]\n",
       "Formula: \n",
       "negaff ~ 1 + day + stress_trait_c + stress_state + stress_state:stress_trait_c +  \n",
       "    (1 + stress_state | id)\n",
       "   Data: ddata_long\n",
       "\n",
       "REML criterion at convergence: 3162.4\n",
       "\n",
       "Scaled residuals: \n",
       "    Min      1Q  Median      3Q     Max \n",
       "-3.5368 -0.6127 -0.0729  0.5093  4.4164 \n",
       "\n",
       "Random effects:\n",
       " Groups   Name         Variance Std.Dev. Corr\n",
       " id       (Intercept)  0.2135   0.4621       \n",
       "          stress_state 0.1257   0.3546   0.53\n",
       " Residual              0.4038   0.6355       \n",
       "Number of obs: 1438, groups:  id, 190\n",
       "\n",
       "Fixed effects:\n",
       "                              Estimate Std. Error         df t value Pr(>|t|)\n",
       "(Intercept)                  2.695e+00  4.583e-02  3.922e+02  58.806   <2e-16\n",
       "day                         -6.580e-02  7.552e-03  1.250e+03  -8.713   <2e-16\n",
       "stress_trait_c               1.038e+00  7.946e-02  1.859e+02  13.067   <2e-16\n",
       "stress_state                 7.647e-01  4.561e-02  1.664e+02  16.765   <2e-16\n",
       "stress_trait_c:stress_state  1.550e-01  9.780e-02  1.584e+02   1.585    0.115\n",
       "                               \n",
       "(Intercept)                 ***\n",
       "day                         ***\n",
       "stress_trait_c              ***\n",
       "stress_state                ***\n",
       "stress_trait_c:stress_state    \n",
       "---\n",
       "Signif. codes:  0 '***' 0.001 '**' 0.01 '*' 0.05 '.' 0.1 ' ' 1\n",
       "\n",
       "Correlation of Fixed Effects:\n",
       "            (Intr) day    strs__ strss_\n",
       "day         -0.569                     \n",
       "strss_trt_c  0.004  0.007              \n",
       "stress_stat  0.216  0.012  0.002       \n",
       "strss_tr_:_  0.034 -0.057  0.268 -0.118"
      ]
     },
     "metadata": {},
     "output_type": "display_data"
    }
   ],
   "source": [
    "model1 <- lmer(formula = negaff ~ 1 + day + stress_trait_c + \n",
    "                      stress_state + stress_state:stress_trait_c + \n",
    "                      (1 + stress_state|id), \n",
    "                    data=ddata_long,\n",
    "                    na.action=na.exclude)\n",
    "summary(model1)"
   ]
  },
  {
   "cell_type": "markdown",
   "metadata": {},
   "source": [
    "### 结果解读\n",
    "\n",
    "#### 固定效应 Fixed Effects:\n",
    "\n",
    "- (Intercept):  他是模型中所有变量取0时， 因变量的值， 具体到这个模型， 你可以说在第0天被试的平均消极情是2.695\n",
    "- day: 在调研的这几天里， 被试的消极情绪随时间逐渐降低， 每过一天， 消极情绪降低-6.580e-02\n",
    "- stress_trait_c： 压力特质比较高的被试具有较多的消极情绪， 压力特质增加一个单位消极情绪增加1.308\n",
    "- stress_state  : 被试当天感受到的压力越多他的消极情绪越多， 压力增加1个单位消极情绪增加0.76\n",
    "- stress_trait_c:stress_state ： 交互效应不显著(0.16, p = 0.11)， 这意味着stress_trait的效应量不受stress_trait_c的影响， 意味着被试的压力特质对压力状态和消极情绪的调节效应不显著\n",
    "\n",
    "#### 随机效应 Random Effects:\n",
    "\n",
    "- sd((Intercept)): 每个被试的模型截距不同， 而这个截距的方差就是 0.2135\n",
    "- sd(stress_state)： stress_state 对 因变量 消极情绪的效应不是固定不变的， 这个效应随被试不同而不同， 而这种被试导致的效应的方差是 0.1257 \n",
    "- Corr ： Intercept 和 stress_state 是两个随机变量， 这两个随机变量的相关系数是 0.53， 这个相关系数较大， 意味着被试预期的消极情绪越大， stress_state 对消极情绪的影响也越大\n",
    "\n",
    "### 预测值\n",
    "\n",
    "基于样本数据和已有模型， 可以估计因变量的值， 也叫因变量的预测值， 如何获取因变量预测值："
   ]
  },
  {
   "cell_type": "code",
   "execution_count": 16,
   "metadata": {
    "vscode": {
     "languageId": "r"
    }
   },
   "outputs": [
    {
     "data": {
      "text/html": [
       "<table class=\"dataframe\">\n",
       "<caption>A data.frame: 6 × 13</caption>\n",
       "<thead>\n",
       "\t<tr><th></th><th scope=col>id</th><th scope=col>day</th><th scope=col>negaff</th><th scope=col>pss</th><th scope=col>stress</th><th scope=col>bfi_n</th><th scope=col>stress_trait</th><th scope=col>negaff_trait</th><th scope=col>bfi_n_c</th><th scope=col>stress_trait_c</th><th scope=col>stress_state</th><th scope=col>negaff_state</th><th scope=col>pred_m1</th></tr>\n",
       "\t<tr><th></th><th scope=col>&lt;int&gt;</th><th scope=col>&lt;int&gt;</th><th scope=col>&lt;dbl&gt;</th><th scope=col>&lt;dbl&gt;</th><th scope=col>&lt;dbl&gt;</th><th scope=col>&lt;dbl&gt;</th><th scope=col>&lt;dbl&gt;</th><th scope=col>&lt;dbl&gt;</th><th scope=col>&lt;dbl[,1]&gt;</th><th scope=col>&lt;dbl[,1]&gt;</th><th scope=col>&lt;dbl&gt;</th><th scope=col>&lt;dbl&gt;</th><th scope=col>&lt;dbl&gt;</th></tr>\n",
       "</thead>\n",
       "<tbody>\n",
       "\t<tr><th scope=row>1</th><td>101</td><td>0</td><td>3.0</td><td>2.50</td><td>1.50</td><td>2</td><td>1.0625</td><td>1.5</td><td>-0.9815789</td><td>-0.3330326</td><td> 0.4375</td><td> 1.5</td><td>2.122456</td></tr>\n",
       "\t<tr><th scope=row>2</th><td>101</td><td>1</td><td>2.3</td><td>2.75</td><td>1.25</td><td>2</td><td>1.0625</td><td>1.5</td><td>-0.9815789</td><td>-0.3330326</td><td> 0.1875</td><td> 0.8</td><td>1.908520</td></tr>\n",
       "\t<tr><th scope=row>3</th><td>101</td><td>2</td><td>1.0</td><td>3.50</td><td>0.50</td><td>2</td><td>1.0625</td><td>1.5</td><td>-0.9815789</td><td>-0.3330326</td><td>-0.5625</td><td>-0.5</td><td>1.398305</td></tr>\n",
       "\t<tr><th scope=row>4</th><td>101</td><td>3</td><td>1.3</td><td>3.00</td><td>1.00</td><td>2</td><td>1.0625</td><td>1.5</td><td>-0.9815789</td><td>-0.3330326</td><td>-0.0625</td><td>-0.2</td><td>1.628788</td></tr>\n",
       "\t<tr><th scope=row>5</th><td>101</td><td>4</td><td>1.1</td><td>2.75</td><td>1.25</td><td>2</td><td>1.0625</td><td>1.5</td><td>-0.9815789</td><td>-0.3330326</td><td> 0.1875</td><td>-0.4</td><td>1.711131</td></tr>\n",
       "\t<tr><th scope=row>6</th><td>101</td><td>5</td><td>1.0</td><td>2.75</td><td>1.25</td><td>2</td><td>1.0625</td><td>1.5</td><td>-0.9815789</td><td>-0.3330326</td><td> 0.1875</td><td>-0.5</td><td>1.645335</td></tr>\n",
       "</tbody>\n",
       "</table>\n"
      ],
      "text/latex": [
       "A data.frame: 6 × 13\n",
       "\\begin{tabular}{r|lllllllllllll}\n",
       "  & id & day & negaff & pss & stress & bfi\\_n & stress\\_trait & negaff\\_trait & bfi\\_n\\_c & stress\\_trait\\_c & stress\\_state & negaff\\_state & pred\\_m1\\\\\n",
       "  & <int> & <int> & <dbl> & <dbl> & <dbl> & <dbl> & <dbl> & <dbl> & <dbl{[},1{]}> & <dbl{[},1{]}> & <dbl> & <dbl> & <dbl>\\\\\n",
       "\\hline\n",
       "\t1 & 101 & 0 & 3.0 & 2.50 & 1.50 & 2 & 1.0625 & 1.5 & -0.9815789 & -0.3330326 &  0.4375 &  1.5 & 2.122456\\\\\n",
       "\t2 & 101 & 1 & 2.3 & 2.75 & 1.25 & 2 & 1.0625 & 1.5 & -0.9815789 & -0.3330326 &  0.1875 &  0.8 & 1.908520\\\\\n",
       "\t3 & 101 & 2 & 1.0 & 3.50 & 0.50 & 2 & 1.0625 & 1.5 & -0.9815789 & -0.3330326 & -0.5625 & -0.5 & 1.398305\\\\\n",
       "\t4 & 101 & 3 & 1.3 & 3.00 & 1.00 & 2 & 1.0625 & 1.5 & -0.9815789 & -0.3330326 & -0.0625 & -0.2 & 1.628788\\\\\n",
       "\t5 & 101 & 4 & 1.1 & 2.75 & 1.25 & 2 & 1.0625 & 1.5 & -0.9815789 & -0.3330326 &  0.1875 & -0.4 & 1.711131\\\\\n",
       "\t6 & 101 & 5 & 1.0 & 2.75 & 1.25 & 2 & 1.0625 & 1.5 & -0.9815789 & -0.3330326 &  0.1875 & -0.5 & 1.645335\\\\\n",
       "\\end{tabular}\n"
      ],
      "text/markdown": [
       "\n",
       "A data.frame: 6 × 13\n",
       "\n",
       "| <!--/--> | id &lt;int&gt; | day &lt;int&gt; | negaff &lt;dbl&gt; | pss &lt;dbl&gt; | stress &lt;dbl&gt; | bfi_n &lt;dbl&gt; | stress_trait &lt;dbl&gt; | negaff_trait &lt;dbl&gt; | bfi_n_c &lt;dbl[,1]&gt; | stress_trait_c &lt;dbl[,1]&gt; | stress_state &lt;dbl&gt; | negaff_state &lt;dbl&gt; | pred_m1 &lt;dbl&gt; |\n",
       "|---|---|---|---|---|---|---|---|---|---|---|---|---|---|\n",
       "| 1 | 101 | 0 | 3.0 | 2.50 | 1.50 | 2 | 1.0625 | 1.5 | -0.9815789 | -0.3330326 |  0.4375 |  1.5 | 2.122456 |\n",
       "| 2 | 101 | 1 | 2.3 | 2.75 | 1.25 | 2 | 1.0625 | 1.5 | -0.9815789 | -0.3330326 |  0.1875 |  0.8 | 1.908520 |\n",
       "| 3 | 101 | 2 | 1.0 | 3.50 | 0.50 | 2 | 1.0625 | 1.5 | -0.9815789 | -0.3330326 | -0.5625 | -0.5 | 1.398305 |\n",
       "| 4 | 101 | 3 | 1.3 | 3.00 | 1.00 | 2 | 1.0625 | 1.5 | -0.9815789 | -0.3330326 | -0.0625 | -0.2 | 1.628788 |\n",
       "| 5 | 101 | 4 | 1.1 | 2.75 | 1.25 | 2 | 1.0625 | 1.5 | -0.9815789 | -0.3330326 |  0.1875 | -0.4 | 1.711131 |\n",
       "| 6 | 101 | 5 | 1.0 | 2.75 | 1.25 | 2 | 1.0625 | 1.5 | -0.9815789 | -0.3330326 |  0.1875 | -0.5 | 1.645335 |\n",
       "\n"
      ],
      "text/plain": [
       "  id  day negaff pss  stress bfi_n stress_trait negaff_trait bfi_n_c   \n",
       "1 101 0   3.0    2.50 1.50   2     1.0625       1.5          -0.9815789\n",
       "2 101 1   2.3    2.75 1.25   2     1.0625       1.5          -0.9815789\n",
       "3 101 2   1.0    3.50 0.50   2     1.0625       1.5          -0.9815789\n",
       "4 101 3   1.3    3.00 1.00   2     1.0625       1.5          -0.9815789\n",
       "5 101 4   1.1    2.75 1.25   2     1.0625       1.5          -0.9815789\n",
       "6 101 5   1.0    2.75 1.25   2     1.0625       1.5          -0.9815789\n",
       "  stress_trait_c stress_state negaff_state pred_m1 \n",
       "1 -0.3330326      0.4375       1.5         2.122456\n",
       "2 -0.3330326      0.1875       0.8         1.908520\n",
       "3 -0.3330326     -0.5625      -0.5         1.398305\n",
       "4 -0.3330326     -0.0625      -0.2         1.628788\n",
       "5 -0.3330326      0.1875      -0.4         1.711131\n",
       "6 -0.3330326      0.1875      -0.5         1.645335"
      ]
     },
     "metadata": {},
     "output_type": "display_data"
    }
   ],
   "source": [
    "# 保存模型的预测结果\n",
    "ddata_long$pred_m1 <- predict(model1)\n",
    "head(ddata_long)"
   ]
  },
  {
   "cell_type": "markdown",
   "metadata": {},
   "source": [
    "### 获取参数的置信区间\n",
    "\n",
    "可以使用confint函数获取参数的置信区间， 但是结果比较难看懂， 因为里面很多参数是我们不熟悉的（sig01， sig02 等），\n",
    "因为这些参数的名字其实是来自于模型的推导中用到的， 你没有深入了解过混合效应模型的参数估计方法， 你可能看不懂，\n",
    "不过， 我们只能试着让你有一个感性认识：\n",
    "\n",
    "- .sig01 随机截距的标准差， 如果你想获得方差的置信区间， 只需要把这个值平方一下\n",
    "- sig02 随机截距和随机斜率的相关系数\n",
    "- sig03 随机斜率的标准差\n",
    "- sigma 残差标准差 "
   ]
  },
  {
   "cell_type": "code",
   "execution_count": 17,
   "metadata": {
    "vscode": {
     "languageId": "r"
    }
   },
   "outputs": [
    {
     "name": "stderr",
     "output_type": "stream",
     "text": [
      "Computing profile confidence intervals ...\n",
      "\n"
     ]
    },
    {
     "data": {
      "text/html": [
       "<table class=\"dataframe\">\n",
       "<caption>A matrix: 9 × 2 of type dbl</caption>\n",
       "<thead>\n",
       "\t<tr><th></th><th scope=col>2.5 %</th><th scope=col>97.5 %</th></tr>\n",
       "</thead>\n",
       "<tbody>\n",
       "\t<tr><th scope=row>.sig01</th><td> 0.40390297</td><td> 0.52245693</td></tr>\n",
       "\t<tr><th scope=row>.sig02</th><td> 0.27635505</td><td> 0.77129752</td></tr>\n",
       "\t<tr><th scope=row>.sig03</th><td> 0.25230527</td><td> 0.45069358</td></tr>\n",
       "\t<tr><th scope=row>.sigma</th><td> 0.60962930</td><td> 0.66244352</td></tr>\n",
       "\t<tr><th scope=row>(Intercept)</th><td> 2.60530435</td><td> 2.78468853</td></tr>\n",
       "\t<tr><th scope=row>day</th><td>-0.08058845</td><td>-0.05099124</td></tr>\n",
       "\t<tr><th scope=row>stress_trait_c</th><td> 0.88249219</td><td> 1.19390741</td></tr>\n",
       "\t<tr><th scope=row>stress_state</th><td> 0.67339998</td><td> 0.85449747</td></tr>\n",
       "\t<tr><th scope=row>stress_trait_c:stress_state</th><td>-0.03788643</td><td> 0.34703329</td></tr>\n",
       "</tbody>\n",
       "</table>\n"
      ],
      "text/latex": [
       "A matrix: 9 × 2 of type dbl\n",
       "\\begin{tabular}{r|ll}\n",
       "  & 2.5 \\% & 97.5 \\%\\\\\n",
       "\\hline\n",
       "\t.sig01 &  0.40390297 &  0.52245693\\\\\n",
       "\t.sig02 &  0.27635505 &  0.77129752\\\\\n",
       "\t.sig03 &  0.25230527 &  0.45069358\\\\\n",
       "\t.sigma &  0.60962930 &  0.66244352\\\\\n",
       "\t(Intercept) &  2.60530435 &  2.78468853\\\\\n",
       "\tday & -0.08058845 & -0.05099124\\\\\n",
       "\tstress\\_trait\\_c &  0.88249219 &  1.19390741\\\\\n",
       "\tstress\\_state &  0.67339998 &  0.85449747\\\\\n",
       "\tstress\\_trait\\_c:stress\\_state & -0.03788643 &  0.34703329\\\\\n",
       "\\end{tabular}\n"
      ],
      "text/markdown": [
       "\n",
       "A matrix: 9 × 2 of type dbl\n",
       "\n",
       "| <!--/--> | 2.5 % | 97.5 % |\n",
       "|---|---|---|\n",
       "| .sig01 |  0.40390297 |  0.52245693 |\n",
       "| .sig02 |  0.27635505 |  0.77129752 |\n",
       "| .sig03 |  0.25230527 |  0.45069358 |\n",
       "| .sigma |  0.60962930 |  0.66244352 |\n",
       "| (Intercept) |  2.60530435 |  2.78468853 |\n",
       "| day | -0.08058845 | -0.05099124 |\n",
       "| stress_trait_c |  0.88249219 |  1.19390741 |\n",
       "| stress_state |  0.67339998 |  0.85449747 |\n",
       "| stress_trait_c:stress_state | -0.03788643 |  0.34703329 |\n",
       "\n"
      ],
      "text/plain": [
       "                            2.5 %       97.5 %     \n",
       ".sig01                       0.40390297  0.52245693\n",
       ".sig02                       0.27635505  0.77129752\n",
       ".sig03                       0.25230527  0.45069358\n",
       ".sigma                       0.60962930  0.66244352\n",
       "(Intercept)                  2.60530435  2.78468853\n",
       "day                         -0.08058845 -0.05099124\n",
       "stress_trait_c               0.88249219  1.19390741\n",
       "stress_state                 0.67339998  0.85449747\n",
       "stress_trait_c:stress_state -0.03788643  0.34703329"
      ]
     },
     "metadata": {},
     "output_type": "display_data"
    }
   ],
   "source": [
    "confint(model1)"
   ]
  },
  {
   "cell_type": "markdown",
   "metadata": {},
   "source": [
    "## 可视化\n",
    "\n",
    "先看被试层面的变量， negaff_trait 是消极情绪特质， 其实就是每天的消极情绪取被试内的均值， 代表了被试每天的平均消极情绪，\n",
    "这个变量很可能受到压力特质（被试每天压力状态的一个被试内均值）的影响， 因此可以绘制这两个变量的关系："
   ]
  },
  {
   "cell_type": "code",
   "execution_count": 18,
   "metadata": {
    "vscode": {
     "languageId": "r"
    }
   },
   "outputs": [
    {
     "name": "stderr",
     "output_type": "stream",
     "text": [
      "Warning message:\n",
      "\"\u001b[1m\u001b[22mUsing `size` aesthetic for lines was deprecated in ggplot2 3.4.0.\n",
      "\u001b[36mℹ\u001b[39m Please use `linewidth` instead.\"\n",
      "\u001b[1m\u001b[22m`geom_smooth()` using formula = 'y ~ x'\n"
     ]
    },
    {
     "data": {
      "image/png": "[encoded data removed]",
      "text/plain": [
       "plot without title"
      ]
     },
     "metadata": {
      "image/png": {
       "height": 420,
       "width": 420
      }
     },
     "output_type": "display_data"
    }
   ],
   "source": [
    "ggplot(data=personmeans, aes(x=stress_trait, y=negaff_trait, group=factor(id)), legend=FALSE) +\n",
    "  geom_point(colour=\"gray40\") +\n",
    "  geom_smooth(aes(group=1), method=lm, se=FALSE, fullrange=FALSE, lty=1, size=2, color=\"blue\") +\n",
    "  xlab(\"Trait Stress\") + ylab(\"Trait Negative Affect\") +\n",
    "  theme_classic() +\n",
    "  theme(axis.title=element_text(size=16),\n",
    "        axis.text=element_text(size=12),\n",
    "        plot.title=element_text(size=16, hjust=.5)) +\n",
    "  ggtitle(\"Between-Person Association Plot\\nTrait Stress & Negative Affect\")"
   ]
  },
  {
   "cell_type": "markdown",
   "metadata": {},
   "source": [
    "下面绘制negaff_state和stress_state的关系 ， 因为这两个变量都是日测数据， 因此每个被试都应当是不同的。\n"
   ]
  },
  {
   "cell_type": "code",
   "execution_count": 18,
   "metadata": {
    "vscode": {
     "languageId": "r"
    }
   },
   "outputs": [
    {
     "name": "stderr",
     "output_type": "stream",
     "text": [
      "\u001b[1m\u001b[22m`geom_smooth()` using formula = 'y ~ x'\n",
      "Warning message:\n",
      "\"\u001b[1m\u001b[22mRemoved 20 rows containing non-finite values (`stat_smooth()`).\"\n",
      "\u001b[1m\u001b[22m`geom_smooth()` using formula = 'y ~ x'\n",
      "Warning message:\n",
      "\"\u001b[1m\u001b[22mRemoved 20 rows containing non-finite values (`stat_smooth()`).\"\n"
     ]
    },
    {
     "data": {
      "image/png": "[encoded data removed]",
      "text/plain": [
       "plot without title"
      ]
     },
     "metadata": {
      "image/png": {
       "height": 420,
       "width": 420
      }
     },
     "output_type": "display_data"
    }
   ],
   "source": [
    "ggplot(data=ddata_long, aes(x=stress_state, y=negaff_state, group=factor(id), colour=\"gray\"), legend=FALSE) +\n",
    "  geom_smooth(method=lm, se=FALSE, fullrange=FALSE, lty=1, size=.5, color=\"gray40\") +\n",
    "  geom_smooth(aes(group=1), method=lm, se=FALSE, fullrange=FALSE, lty=1, size=2, color=\"blue\") +\n",
    "  xlab(\"Stress State\") + ylab(\"Predicted State Negative Affect\") +\n",
    "  theme_classic() +\n",
    "  theme(axis.title=element_text(size=18),\n",
    "        axis.text=element_text(size=14),\n",
    "        plot.title=element_text(size=18, hjust=.5)) +\n",
    "  ggtitle(\"Within-Person Association Plot\\nPerceived Stress & Negative Affect\")"
   ]
  },
  {
   "cell_type": "markdown",
   "metadata": {},
   "source": [
    "## 增加神经质变量作为预测变量\n",
    "\n",
    "bfi_n_c 是大五人格量表中的神经质变量， 它经过处理得到了中心化后的变量， \n",
    "这个变量中心化的目的也是因为这个变量会参与调节效应， 构建模型如下："
   ]
  },
  {
   "cell_type": "code",
   "execution_count": 21,
   "metadata": {
    "vscode": {
     "languageId": "r"
    }
   },
   "outputs": [
    {
     "data": {
      "text/plain": [
       "Linear mixed model fit by REML. t-tests use Satterthwaite's method [\n",
       "lmerModLmerTest]\n",
       "Formula: \n",
       "negaff ~ 1 + day + stress_trait_c + bfi_n_c + stress_trait_c:bfi_n_c +  \n",
       "    stress_state + stress_state:stress_trait_c + stress_state:bfi_n_c +  \n",
       "    stress_state:stress_trait_c:bfi_n_c + (1 + stress_state |      id)\n",
       "   Data: ddata_long\n",
       "\n",
       "REML criterion at convergence: 3161.8\n",
       "\n",
       "Scaled residuals: \n",
       "    Min      1Q  Median      3Q     Max \n",
       "-3.4271 -0.6011 -0.0749  0.5045  4.4732 \n",
       "\n",
       "Random effects:\n",
       " Groups   Name         Variance Std.Dev. Corr\n",
       " id       (Intercept)  0.1955   0.4422       \n",
       "          stress_state 0.1238   0.3518   0.51\n",
       " Residual              0.4040   0.6356       \n",
       "Number of obs: 1438, groups:  id, 190\n",
       "\n",
       "Fixed effects:\n",
       "                                      Estimate Std. Error         df t value\n",
       "(Intercept)                          2.690e+00  4.556e-02  3.944e+02  59.055\n",
       "day                                 -6.545e-02  7.572e-03  1.247e+03  -8.644\n",
       "stress_trait_c                       9.695e-01  7.878e-02  1.835e+02  12.307\n",
       "bfi_n_c                              1.543e-01  3.917e-02  1.809e+02   3.939\n",
       "stress_state                         7.687e-01  4.682e-02  1.673e+02  16.418\n",
       "stress_trait_c:bfi_n_c               3.715e-02  7.832e-02  1.824e+02   0.474\n",
       "stress_trait_c:stress_state          1.254e-01  1.015e-01  1.692e+02   1.235\n",
       "bfi_n_c:stress_state                 7.595e-02  4.845e-02  1.549e+02   1.568\n",
       "stress_trait_c:bfi_n_c:stress_state -3.167e-02  1.024e-01  1.722e+02  -0.309\n",
       "                                    Pr(>|t|)    \n",
       "(Intercept)                          < 2e-16 ***\n",
       "day                                  < 2e-16 ***\n",
       "stress_trait_c                       < 2e-16 ***\n",
       "bfi_n_c                             0.000117 ***\n",
       "stress_state                         < 2e-16 ***\n",
       "stress_trait_c:bfi_n_c              0.635819    \n",
       "stress_trait_c:stress_state         0.218473    \n",
       "bfi_n_c:stress_state                0.119006    \n",
       "stress_trait_c:bfi_n_c:stress_state 0.757565    \n",
       "---\n",
       "Signif. codes:  0 '***' 0.001 '**' 0.01 '*' 0.05 '.' 0.1 ' ' 1\n",
       "\n",
       "Correlation of Fixed Effects:\n",
       "            (Intr) day    strs__ bf_n_c strss_ st__:__ st__:_ bf__:_\n",
       "day         -0.576                                                  \n",
       "strss_trt_c  0.003  0.005                                           \n",
       "bfi_n_c     -0.008  0.007 -0.224                                    \n",
       "stress_stat  0.204  0.004  0.000  0.001                             \n",
       "strss_t_:__ -0.179  0.008  0.008  0.040 -0.054                      \n",
       "strss_tr_:_  0.042 -0.073  0.248 -0.056 -0.087  0.003               \n",
       "bf_n_c:str_ -0.033  0.058 -0.058  0.258  0.016  0.009  -0.244       \n",
       "strs__:__:_ -0.061  0.032  0.004  0.008 -0.233  0.243  -0.103 -0.059"
      ]
     },
     "metadata": {},
     "output_type": "display_data"
    }
   ],
   "source": [
    "# fit model\n",
    "model2 <- lmer(formula = negaff ~ 1 + day + stress_trait_c + \n",
    "                      bfi_n_c + stress_trait_c:bfi_n_c +\n",
    "                      stress_state + stress_state:stress_trait_c + \n",
    "                      stress_state:bfi_n_c + stress_state:stress_trait_c:bfi_n_c + \n",
    "                      (1 + stress_state|id),\n",
    "                    data=ddata_long,\n",
    "                    na.action=na.exclude)\n",
    "#Look at results\n",
    "summary(model2)"
   ]
  },
  {
   "cell_type": "markdown",
   "metadata": {},
   "source": [
    "### 结果解读\n",
    "\n",
    "#### 固定效应\n",
    "\n",
    "- (Intercept): 截距项， stress_trait_c  和 bfi_n_c 都取0的时候（均值）， 因变量的期望是 2.69\n",
    "- stress_trait_c ： 被试的压力特质越高， 感受到的消极情绪越多\n",
    "- bfi_n_c ： 神经质得分越高的人感受到的消极情绪越多(0.15, p = 0)\n",
    "- stress_state ： 当天感受压力越大， 当天的消极情绪越多（0.77， p=0）\n",
    "- stress_trait_c:bfi_n_c ： 神经质对压力特质的调节效应不显著(0.04, p = 0.64)\n",
    "- stress_trait_c:stress_state ： 压力特质对日间压力状态没有调节效应(0.13, p = 0.22)\n",
    "- bfi_n_c:stress_state: 神经质对日间压力状态没有调节效应(0.08, p = 0.12)\n",
    "- stress_trait_c:bfi_n_c:stress_state： 神经质对压力特质和压力状态的调节效应的调节作用不显著\n",
    "\n",
    "#### 随机效应\n",
    "\n",
    "与之前的结论一致， 在此略去\n"
   ]
  },
  {
   "cell_type": "markdown",
   "metadata": {},
   "source": [
    "获取模型预测值"
   ]
  },
  {
   "cell_type": "code",
   "execution_count": 22,
   "metadata": {
    "vscode": {
     "languageId": "r"
    }
   },
   "outputs": [
    {
     "data": {
      "text/html": [
       "<table class=\"dataframe\">\n",
       "<caption>A data.frame: 6 × 14</caption>\n",
       "<thead>\n",
       "\t<tr><th></th><th scope=col>id</th><th scope=col>day</th><th scope=col>negaff</th><th scope=col>pss</th><th scope=col>stress</th><th scope=col>bfi_n</th><th scope=col>stress_trait</th><th scope=col>negaff_trait</th><th scope=col>bfi_n_c</th><th scope=col>stress_trait_c</th><th scope=col>stress_state</th><th scope=col>negaff_state</th><th scope=col>pred_m1</th><th scope=col>pred_m2</th></tr>\n",
       "\t<tr><th></th><th scope=col>&lt;int&gt;</th><th scope=col>&lt;int&gt;</th><th scope=col>&lt;dbl&gt;</th><th scope=col>&lt;dbl&gt;</th><th scope=col>&lt;dbl&gt;</th><th scope=col>&lt;dbl&gt;</th><th scope=col>&lt;dbl&gt;</th><th scope=col>&lt;dbl&gt;</th><th scope=col>&lt;dbl[,1]&gt;</th><th scope=col>&lt;dbl[,1]&gt;</th><th scope=col>&lt;dbl&gt;</th><th scope=col>&lt;dbl&gt;</th><th scope=col>&lt;dbl&gt;</th><th scope=col>&lt;dbl&gt;</th></tr>\n",
       "</thead>\n",
       "<tbody>\n",
       "\t<tr><th scope=row>1</th><td>101</td><td>0</td><td>3.0</td><td>2.50</td><td>1.50</td><td>2</td><td>1.0625</td><td>1.5</td><td>-0.9815789</td><td>-0.3330326</td><td> 0.4375</td><td> 1.5</td><td>2.122456</td><td>2.097006</td></tr>\n",
       "\t<tr><th scope=row>2</th><td>101</td><td>1</td><td>2.3</td><td>2.75</td><td>1.25</td><td>2</td><td>1.0625</td><td>1.5</td><td>-0.9815789</td><td>-0.3330326</td><td> 0.1875</td><td> 0.8</td><td>1.908520</td><td>1.888382</td></tr>\n",
       "\t<tr><th scope=row>3</th><td>101</td><td>2</td><td>1.0</td><td>3.50</td><td>0.50</td><td>2</td><td>1.0625</td><td>1.5</td><td>-0.9815789</td><td>-0.3330326</td><td>-0.5625</td><td>-0.5</td><td>1.398305</td><td>1.393416</td></tr>\n",
       "\t<tr><th scope=row>4</th><td>101</td><td>3</td><td>1.3</td><td>3.00</td><td>1.00</td><td>2</td><td>1.0625</td><td>1.5</td><td>-0.9815789</td><td>-0.3330326</td><td>-0.0625</td><td>-0.2</td><td>1.628788</td><td>1.614307</td></tr>\n",
       "\t<tr><th scope=row>5</th><td>101</td><td>4</td><td>1.1</td><td>2.75</td><td>1.25</td><td>2</td><td>1.0625</td><td>1.5</td><td>-0.9815789</td><td>-0.3330326</td><td> 0.1875</td><td>-0.4</td><td>1.711131</td><td>1.692027</td></tr>\n",
       "\t<tr><th scope=row>6</th><td>101</td><td>5</td><td>1.0</td><td>2.75</td><td>1.25</td><td>2</td><td>1.0625</td><td>1.5</td><td>-0.9815789</td><td>-0.3330326</td><td> 0.1875</td><td>-0.5</td><td>1.645335</td><td>1.626575</td></tr>\n",
       "</tbody>\n",
       "</table>\n"
      ],
      "text/latex": [
       "A data.frame: 6 × 14\n",
       "\\begin{tabular}{r|llllllllllllll}\n",
       "  & id & day & negaff & pss & stress & bfi\\_n & stress\\_trait & negaff\\_trait & bfi\\_n\\_c & stress\\_trait\\_c & stress\\_state & negaff\\_state & pred\\_m1 & pred\\_m2\\\\\n",
       "  & <int> & <int> & <dbl> & <dbl> & <dbl> & <dbl> & <dbl> & <dbl> & <dbl{[},1{]}> & <dbl{[},1{]}> & <dbl> & <dbl> & <dbl> & <dbl>\\\\\n",
       "\\hline\n",
       "\t1 & 101 & 0 & 3.0 & 2.50 & 1.50 & 2 & 1.0625 & 1.5 & -0.9815789 & -0.3330326 &  0.4375 &  1.5 & 2.122456 & 2.097006\\\\\n",
       "\t2 & 101 & 1 & 2.3 & 2.75 & 1.25 & 2 & 1.0625 & 1.5 & -0.9815789 & -0.3330326 &  0.1875 &  0.8 & 1.908520 & 1.888382\\\\\n",
       "\t3 & 101 & 2 & 1.0 & 3.50 & 0.50 & 2 & 1.0625 & 1.5 & -0.9815789 & -0.3330326 & -0.5625 & -0.5 & 1.398305 & 1.393416\\\\\n",
       "\t4 & 101 & 3 & 1.3 & 3.00 & 1.00 & 2 & 1.0625 & 1.5 & -0.9815789 & -0.3330326 & -0.0625 & -0.2 & 1.628788 & 1.614307\\\\\n",
       "\t5 & 101 & 4 & 1.1 & 2.75 & 1.25 & 2 & 1.0625 & 1.5 & -0.9815789 & -0.3330326 &  0.1875 & -0.4 & 1.711131 & 1.692027\\\\\n",
       "\t6 & 101 & 5 & 1.0 & 2.75 & 1.25 & 2 & 1.0625 & 1.5 & -0.9815789 & -0.3330326 &  0.1875 & -0.5 & 1.645335 & 1.626575\\\\\n",
       "\\end{tabular}\n"
      ],
      "text/markdown": [
       "\n",
       "A data.frame: 6 × 14\n",
       "\n",
       "| <!--/--> | id &lt;int&gt; | day &lt;int&gt; | negaff &lt;dbl&gt; | pss &lt;dbl&gt; | stress &lt;dbl&gt; | bfi_n &lt;dbl&gt; | stress_trait &lt;dbl&gt; | negaff_trait &lt;dbl&gt; | bfi_n_c &lt;dbl[,1]&gt; | stress_trait_c &lt;dbl[,1]&gt; | stress_state &lt;dbl&gt; | negaff_state &lt;dbl&gt; | pred_m1 &lt;dbl&gt; | pred_m2 &lt;dbl&gt; |\n",
       "|---|---|---|---|---|---|---|---|---|---|---|---|---|---|---|\n",
       "| 1 | 101 | 0 | 3.0 | 2.50 | 1.50 | 2 | 1.0625 | 1.5 | -0.9815789 | -0.3330326 |  0.4375 |  1.5 | 2.122456 | 2.097006 |\n",
       "| 2 | 101 | 1 | 2.3 | 2.75 | 1.25 | 2 | 1.0625 | 1.5 | -0.9815789 | -0.3330326 |  0.1875 |  0.8 | 1.908520 | 1.888382 |\n",
       "| 3 | 101 | 2 | 1.0 | 3.50 | 0.50 | 2 | 1.0625 | 1.5 | -0.9815789 | -0.3330326 | -0.5625 | -0.5 | 1.398305 | 1.393416 |\n",
       "| 4 | 101 | 3 | 1.3 | 3.00 | 1.00 | 2 | 1.0625 | 1.5 | -0.9815789 | -0.3330326 | -0.0625 | -0.2 | 1.628788 | 1.614307 |\n",
       "| 5 | 101 | 4 | 1.1 | 2.75 | 1.25 | 2 | 1.0625 | 1.5 | -0.9815789 | -0.3330326 |  0.1875 | -0.4 | 1.711131 | 1.692027 |\n",
       "| 6 | 101 | 5 | 1.0 | 2.75 | 1.25 | 2 | 1.0625 | 1.5 | -0.9815789 | -0.3330326 |  0.1875 | -0.5 | 1.645335 | 1.626575 |\n",
       "\n"
      ],
      "text/plain": [
       "  id  day negaff pss  stress bfi_n stress_trait negaff_trait bfi_n_c   \n",
       "1 101 0   3.0    2.50 1.50   2     1.0625       1.5          -0.9815789\n",
       "2 101 1   2.3    2.75 1.25   2     1.0625       1.5          -0.9815789\n",
       "3 101 2   1.0    3.50 0.50   2     1.0625       1.5          -0.9815789\n",
       "4 101 3   1.3    3.00 1.00   2     1.0625       1.5          -0.9815789\n",
       "5 101 4   1.1    2.75 1.25   2     1.0625       1.5          -0.9815789\n",
       "6 101 5   1.0    2.75 1.25   2     1.0625       1.5          -0.9815789\n",
       "  stress_trait_c stress_state negaff_state pred_m1  pred_m2 \n",
       "1 -0.3330326      0.4375       1.5         2.122456 2.097006\n",
       "2 -0.3330326      0.1875       0.8         1.908520 1.888382\n",
       "3 -0.3330326     -0.5625      -0.5         1.398305 1.393416\n",
       "4 -0.3330326     -0.0625      -0.2         1.628788 1.614307\n",
       "5 -0.3330326      0.1875      -0.4         1.711131 1.692027\n",
       "6 -0.3330326      0.1875      -0.5         1.645335 1.626575"
      ]
     },
     "metadata": {},
     "output_type": "display_data"
    }
   ],
   "source": [
    "ddata_long$pred_m2 <- predict(model2)\n",
    "head(ddata_long)"
   ]
  },
  {
   "cell_type": "markdown",
   "metadata": {},
   "source": [
    "## 调节效应的绘制"
   ]
  },
  {
   "cell_type": "markdown",
   "metadata": {},
   "source": [
    "根据上面的结果，stress_state:bfi_n_c的调节效应是显著的， 意味着我们有必要进一步将调节效应可视化，\n",
    "通常我们有两种可视化调节效应的方法， 1是选点法， 就是自变量和调节变量选择 M±SD 的值作为点， 绘制在不同调节变量取值下， 自变量与因变量的关系；\n",
    "另一种方法是绘制JN图，它可以看到调节变量取值什么范围内， 自变量对因变量的效应是显著的。\n",
    "\n",
    "## 选点法\n",
    "\n",
    "我们先看下自变量和调节变量的描述性统计， 因为我们需要用到均值和标准差。"
   ]
  },
  {
   "cell_type": "code",
   "execution_count": 24,
   "metadata": {
    "vscode": {
     "languageId": "r"
    }
   },
   "outputs": [
    {
     "data": {
      "text/html": [
       "<table class=\"dataframe\">\n",
       "<caption>A psych: 1 × 13</caption>\n",
       "<thead>\n",
       "\t<tr><th></th><th scope=col>vars</th><th scope=col>n</th><th scope=col>mean</th><th scope=col>sd</th><th scope=col>median</th><th scope=col>trimmed</th><th scope=col>mad</th><th scope=col>min</th><th scope=col>max</th><th scope=col>range</th><th scope=col>skew</th><th scope=col>kurtosis</th><th scope=col>se</th></tr>\n",
       "\t<tr><th></th><th scope=col>&lt;dbl&gt;</th><th scope=col>&lt;dbl&gt;</th><th scope=col>&lt;dbl&gt;</th><th scope=col>&lt;dbl&gt;</th><th scope=col>&lt;dbl&gt;</th><th scope=col>&lt;dbl&gt;</th><th scope=col>&lt;dbl&gt;</th><th scope=col>&lt;dbl&gt;</th><th scope=col>&lt;dbl&gt;</th><th scope=col>&lt;dbl&gt;</th><th scope=col>&lt;dbl&gt;</th><th scope=col>&lt;dbl&gt;</th><th scope=col>&lt;dbl&gt;</th></tr>\n",
       "</thead>\n",
       "<tbody>\n",
       "\t<tr><th scope=row>X1</th><td>1</td><td>1458</td><td>-0.01210021</td><td>0.9564619</td><td>0.01842105</td><td>0.002582012</td><td>1.4826</td><td>-1.981579</td><td>2.018421</td><td>4</td><td>-0.07586913</td><td>-0.7908849</td><td>0.02504891</td></tr>\n",
       "</tbody>\n",
       "</table>\n"
      ],
      "text/latex": [
       "A psych: 1 × 13\n",
       "\\begin{tabular}{r|lllllllllllll}\n",
       "  & vars & n & mean & sd & median & trimmed & mad & min & max & range & skew & kurtosis & se\\\\\n",
       "  & <dbl> & <dbl> & <dbl> & <dbl> & <dbl> & <dbl> & <dbl> & <dbl> & <dbl> & <dbl> & <dbl> & <dbl> & <dbl>\\\\\n",
       "\\hline\n",
       "\tX1 & 1 & 1458 & -0.01210021 & 0.9564619 & 0.01842105 & 0.002582012 & 1.4826 & -1.981579 & 2.018421 & 4 & -0.07586913 & -0.7908849 & 0.02504891\\\\\n",
       "\\end{tabular}\n"
      ],
      "text/markdown": [
       "\n",
       "A psych: 1 × 13\n",
       "\n",
       "| <!--/--> | vars &lt;dbl&gt; | n &lt;dbl&gt; | mean &lt;dbl&gt; | sd &lt;dbl&gt; | median &lt;dbl&gt; | trimmed &lt;dbl&gt; | mad &lt;dbl&gt; | min &lt;dbl&gt; | max &lt;dbl&gt; | range &lt;dbl&gt; | skew &lt;dbl&gt; | kurtosis &lt;dbl&gt; | se &lt;dbl&gt; |\n",
       "|---|---|---|---|---|---|---|---|---|---|---|---|---|---|\n",
       "| X1 | 1 | 1458 | -0.01210021 | 0.9564619 | 0.01842105 | 0.002582012 | 1.4826 | -1.981579 | 2.018421 | 4 | -0.07586913 | -0.7908849 | 0.02504891 |\n",
       "\n"
      ],
      "text/plain": [
       "   vars n    mean        sd        median     trimmed     mad    min      \n",
       "X1 1    1458 -0.01210021 0.9564619 0.01842105 0.002582012 1.4826 -1.981579\n",
       "   max      range skew        kurtosis   se        \n",
       "X1 2.018421 4     -0.07586913 -0.7908849 0.02504891"
      ]
     },
     "metadata": {},
     "output_type": "display_data"
    },
    {
     "data": {
      "text/html": [
       "<table class=\"dataframe\">\n",
       "<caption>A psych: 1 × 13</caption>\n",
       "<thead>\n",
       "\t<tr><th></th><th scope=col>vars</th><th scope=col>n</th><th scope=col>mean</th><th scope=col>sd</th><th scope=col>median</th><th scope=col>trimmed</th><th scope=col>mad</th><th scope=col>min</th><th scope=col>max</th><th scope=col>range</th><th scope=col>skew</th><th scope=col>kurtosis</th><th scope=col>se</th></tr>\n",
       "\t<tr><th></th><th scope=col>&lt;dbl&gt;</th><th scope=col>&lt;dbl&gt;</th><th scope=col>&lt;dbl&gt;</th><th scope=col>&lt;dbl&gt;</th><th scope=col>&lt;dbl&gt;</th><th scope=col>&lt;dbl&gt;</th><th scope=col>&lt;dbl&gt;</th><th scope=col>&lt;dbl&gt;</th><th scope=col>&lt;dbl&gt;</th><th scope=col>&lt;dbl&gt;</th><th scope=col>&lt;dbl&gt;</th><th scope=col>&lt;dbl&gt;</th><th scope=col>&lt;dbl&gt;</th></tr>\n",
       "</thead>\n",
       "<tbody>\n",
       "\t<tr><th scope=row>X1</th><td>1</td><td>1445</td><td>2.378342e-18</td><td>0.4943735</td><td>-0.03125</td><td>-0.01547413</td><td>0.4633125</td><td>-1.75</td><td>2.125</td><td>3.875</td><td>0.3580108</td><td>0.7924172</td><td>0.01300533</td></tr>\n",
       "</tbody>\n",
       "</table>\n"
      ],
      "text/latex": [
       "A psych: 1 × 13\n",
       "\\begin{tabular}{r|lllllllllllll}\n",
       "  & vars & n & mean & sd & median & trimmed & mad & min & max & range & skew & kurtosis & se\\\\\n",
       "  & <dbl> & <dbl> & <dbl> & <dbl> & <dbl> & <dbl> & <dbl> & <dbl> & <dbl> & <dbl> & <dbl> & <dbl> & <dbl>\\\\\n",
       "\\hline\n",
       "\tX1 & 1 & 1445 & 2.378342e-18 & 0.4943735 & -0.03125 & -0.01547413 & 0.4633125 & -1.75 & 2.125 & 3.875 & 0.3580108 & 0.7924172 & 0.01300533\\\\\n",
       "\\end{tabular}\n"
      ],
      "text/markdown": [
       "\n",
       "A psych: 1 × 13\n",
       "\n",
       "| <!--/--> | vars &lt;dbl&gt; | n &lt;dbl&gt; | mean &lt;dbl&gt; | sd &lt;dbl&gt; | median &lt;dbl&gt; | trimmed &lt;dbl&gt; | mad &lt;dbl&gt; | min &lt;dbl&gt; | max &lt;dbl&gt; | range &lt;dbl&gt; | skew &lt;dbl&gt; | kurtosis &lt;dbl&gt; | se &lt;dbl&gt; |\n",
       "|---|---|---|---|---|---|---|---|---|---|---|---|---|---|\n",
       "| X1 | 1 | 1445 | 2.378342e-18 | 0.4943735 | -0.03125 | -0.01547413 | 0.4633125 | -1.75 | 2.125 | 3.875 | 0.3580108 | 0.7924172 | 0.01300533 |\n",
       "\n"
      ],
      "text/plain": [
       "   vars n    mean         sd        median   trimmed     mad       min   max  \n",
       "X1 1    1445 2.378342e-18 0.4943735 -0.03125 -0.01547413 0.4633125 -1.75 2.125\n",
       "   range skew      kurtosis  se        \n",
       "X1 3.875 0.3580108 0.7924172 0.01300533"
      ]
     },
     "metadata": {},
     "output_type": "display_data"
    }
   ],
   "source": [
    "describe(ddata_long$bfi_n_c)\n",
    "describe(ddata_long$stress_state)"
   ]
  },
  {
   "cell_type": "markdown",
   "metadata": {},
   "source": [
    "我们使用 effect 函数来计算不同自变量和调节变量取值下因变量的值， effect 函数的term参数就是你关注的交互项，即自变量和调节变量的乘积。\n",
    "mod 参数就是我们之前拟合得到的模型； xlevels 用于设置选点值， 比如自变量stress_state的正负一个标准差的值就是c(-0.49,+0.49) 。"
   ]
  },
  {
   "cell_type": "code",
   "execution_count": 25,
   "metadata": {
    "vscode": {
     "languageId": "r"
    }
   },
   "outputs": [
    {
     "name": "stderr",
     "output_type": "stream",
     "text": [
      "NOTE: bfi_n_c:stress_state is not a high-order term in the model\n",
      "\n",
      "Warning message in Analyze.model(focal.predictors, mod, xlevels, default.levels, :\n",
      "\"the predictors stress_trait_c, bfi_n_c are one-column matrices that were converted to vectors\"\n"
     ]
    },
    {
     "data": {
      "text/plain": [
       "\n",
       " bfi_n_c*stress_state effect\n",
       "       stress_state\n",
       "bfi_n_c    -0.49     0.49\n",
       "  -0.96 1.964450 2.644774\n",
       "  0.96  2.188157 3.011998\n",
       "\n",
       " Lower 95 Percent Confidence Limits\n",
       "       stress_state\n",
       "bfi_n_c    -0.49     0.49\n",
       "  -0.96 1.858012 2.510688\n",
       "  0.96  2.080619 2.876440\n",
       "\n",
       " Upper 95 Percent Confidence Limits\n",
       "       stress_state\n",
       "bfi_n_c    -0.49     0.49\n",
       "  -0.96 2.070889 2.778860\n",
       "  0.96  2.295694 3.147556"
      ]
     },
     "metadata": {},
     "output_type": "display_data"
    }
   ],
   "source": [
    "#calculate effect\n",
    "effects_model2 <- effect(term=\"bfi_n_c*stress_state\", mod=model2,xlevels=list(bfi_n_c=c(-0.96, +0.96), stress_state=c(-0.49,+0.49)))\n",
    "summary(effects_model2)"
   ]
  },
  {
   "cell_type": "markdown",
   "metadata": {},
   "source": [
    "这个结果输出的是自变量和调节变量不同取值下， 因变量的值； 同时输出了因变量值的95%置信区间。有了这些数据， 我们就可以绘制简单效应图。"
   ]
  },
  {
   "cell_type": "code",
   "execution_count": 26,
   "metadata": {
    "vscode": {
     "languageId": "r"
    }
   },
   "outputs": [
    {
     "data": {
      "image/png": "[encoded data removed]",
      "text/plain": [
       "plot without title"
      ]
     },
     "metadata": {
      "image/png": {
       "height": 420,
       "width": 420
      }
     },
     "output_type": "display_data"
    }
   ],
   "source": [
    "#convert to dataframe\n",
    "effectsdata <- as.data.frame(effects_model2)\n",
    "#plotting the effect evaluation (with standard error ribbon)\n",
    "ggplot(data=effectsdata, aes(x=stress_state, y=fit, group=bfi_n_c), legend=FALSE) + \n",
    "  geom_point() +\n",
    "  geom_line() +\n",
    "  #geom_ribbon(aes(ymin=lower, ymax=upper), alpha=.3) +\n",
    "  geom_errorbar(aes(ymin=lower, ymax=upper), width=.15) +\n",
    "  xlab(\"Stress State\") + xlim(-2,2) +\n",
    "  ylab(\"Predicted Negative Affect\") + ylim(1,7) +\n",
    "  ggtitle(\"Differences in Stress Reactivity across Neuroticism\")"
   ]
  },
  {
   "cell_type": "markdown",
   "metadata": {},
   "source": [
    "johnson_neyman 这个函数可以用于绘制 JN图 ， 关于这个图的原理可以看这篇文章[《Johnson-Neyman图原理和制作Excel工具分享》](https://mlln.cn/2023/08/23/Johnson-Neyman%E5%9B%BE%E5%8E%9F%E7%90%86%E5%92%8C%E5%88%B6%E4%BD%9CExcel%E5%B7%A5%E5%85%B7%E5%88%86%E4%BA%AB/)， 并且这篇文章介绍了[如何使用excel绘制JN图](https://mlln.cn/2023/08/23/Johnson-Neyman%E5%9B%BE%E5%8E%9F%E7%90%86%E5%92%8C%E5%88%B6%E4%BD%9CExcel%E5%B7%A5%E5%85%B7%E5%88%86%E4%BA%AB/)。"
   ]
  },
  {
   "cell_type": "code",
   "execution_count": 33,
   "metadata": {
    "vscode": {
     "languageId": "r"
    }
   },
   "outputs": [
    {
     "data": {
      "text/plain": [
       "\u001b[1m\u001b[4mJOHNSON-NEYMAN INTERVAL\u001b[24m\u001b[22m \n",
       "\n",
       "When bfi_n_c is \u001b[7mINSIDE\u001b[27m the interval [-4.45, 40.14], the slope of\n",
       "stress_state is p < .05.\n",
       "\n",
       "\u001b[3mNote: The range of observed values of bfi_n_c is \u001b[23m[-1.98, 2.02]\n"
      ]
     },
     "metadata": {},
     "output_type": "display_data"
    },
    {
     "data": {
      "image/png": "[encoded data removed]",
      "text/plain": [
       "plot without title"
      ]
     },
     "metadata": {
      "image/png": {
       "height": 420,
       "width": 420
      }
     },
     "output_type": "display_data"
    }
   ],
   "source": [
    "johnson_neyman(model=model2, pred=stress_state, modx=bfi_n_c)"
   ]
  },
  {
   "cell_type": "markdown",
   "metadata": {},
   "source": [
    "# 一些有用函数"
   ]
  },
  {
   "cell_type": "code",
   "execution_count": 29,
   "metadata": {
    "vscode": {
     "languageId": "r"
    }
   },
   "outputs": [
    {
     "data": {
      "text/html": [
       "3256.29897530418"
      ],
      "text/latex": [
       "3256.29897530418"
      ],
      "text/markdown": [
       "3256.29897530418"
      ],
      "text/plain": [
       "[1] 3256.299"
      ]
     },
     "metadata": {},
     "output_type": "display_data"
    }
   ],
   "source": [
    "BIC(logLik(model2))"
   ]
  },
  {
   "cell_type": "code",
   "execution_count": 31,
   "metadata": {
    "vscode": {
     "languageId": "r"
    }
   },
   "outputs": [
    {
     "data": {
      "text/plain": [
       "'log Lik.' -1580.888 (df=13)"
      ]
     },
     "metadata": {},
     "output_type": "display_data"
    }
   ],
   "source": [
    "logLik(logLik(model2))"
   ]
  },
  {
   "cell_type": "code",
   "execution_count": 32,
   "metadata": {
    "vscode": {
     "languageId": "r"
    }
   },
   "outputs": [
    {
     "data": {
      "text/html": [
       "3256.29897530418"
      ],
      "text/latex": [
       "3256.29897530418"
      ],
      "text/markdown": [
       "3256.29897530418"
      ],
      "text/plain": [
       "[1] 3256.299"
      ]
     },
     "metadata": {},
     "output_type": "display_data"
    }
   ],
   "source": [
    "BIC(logLik(model2))"
   ]
  },
  {
   "cell_type": "markdown",
   "metadata": {},
   "source": []
  },
  {
   "cell_type": "markdown",
   "metadata": {},
   "source": [
    "# 数据下载\n",
    "\n",
    "本教程所有用到的代码和数据都可以在这里下载。"
   ]
  }
 ],
 "metadata": {
  "kernelspec": {
   "display_name": "R",
   "language": "R",
   "name": "ir"
  },
  "language_info": {
   "codemirror_mode": "r",
   "file_extension": ".r",
   "mimetype": "text/x-r-source",
   "name": "R",
   "pygments_lexer": "r",
   "version": "4.3.1"
  },
  "orig_nbformat": 4
 },
 "nbformat": 4,
 "nbformat_minor": 2
}
